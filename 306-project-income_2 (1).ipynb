{
 "cells": [
  {
   "cell_type": "markdown",
   "id": "e7285091-cbfe-48dc-baa4-8b25ee20544c",
   "metadata": {},
   "source": [
    "# Stat 306 Project Group B7: Predicting adult income"
   ]
  },
  {
   "cell_type": "code",
   "execution_count": null,
   "id": "2e11ebb9-1ffd-4293-95e1-7265bb4c26f5",
   "metadata": {},
   "outputs": [],
   "source": [
    "set.seed(2004)"
   ]
  },
  {
   "cell_type": "markdown",
   "id": "0459c741-064a-4663-bf7f-8fa582932c1f",
   "metadata": {},
   "source": [
    "# Table of Contents\n",
    "- [Introduction](#Introduction)\n",
    "- [EDA](#EDA)\n",
    "- [Data cleaning](#Data_cleaning)\n",
    "- [Evaluation and model selection](#Evaluation,model_selection)\n",
    "- [Conclusion](#Conclusion)"
   ]
  },
  {
   "cell_type": "code",
   "execution_count": 3,
   "id": "77e39a52-7e4c-4506-95d8-0528f2b336b8",
   "metadata": {},
   "outputs": [
    {
     "name": "stderr",
     "output_type": "stream",
     "text": [
      "── \u001b[1mAttaching core tidyverse packages\u001b[22m ──────────────────────── tidyverse 2.0.0 ──\n",
      "\u001b[32m✔\u001b[39m \u001b[34mdplyr    \u001b[39m 1.1.4     \u001b[32m✔\u001b[39m \u001b[34mreadr    \u001b[39m 2.1.5\n",
      "\u001b[32m✔\u001b[39m \u001b[34mforcats  \u001b[39m 1.0.0     \u001b[32m✔\u001b[39m \u001b[34mstringr  \u001b[39m 1.5.1\n",
      "\u001b[32m✔\u001b[39m \u001b[34mggplot2  \u001b[39m 3.5.0     \u001b[32m✔\u001b[39m \u001b[34mtibble   \u001b[39m 3.2.1\n",
      "\u001b[32m✔\u001b[39m \u001b[34mlubridate\u001b[39m 1.9.3     \u001b[32m✔\u001b[39m \u001b[34mtidyr    \u001b[39m 1.3.1\n",
      "\u001b[32m✔\u001b[39m \u001b[34mpurrr    \u001b[39m 1.0.2     \n",
      "── \u001b[1mConflicts\u001b[22m ────────────────────────────────────────── tidyverse_conflicts() ──\n",
      "\u001b[31m✖\u001b[39m \u001b[34mdplyr\u001b[39m::\u001b[32mfilter()\u001b[39m masks \u001b[34mstats\u001b[39m::filter()\n",
      "\u001b[31m✖\u001b[39m \u001b[34mdplyr\u001b[39m::\u001b[32mlag()\u001b[39m    masks \u001b[34mstats\u001b[39m::lag()\n",
      "\u001b[36mℹ\u001b[39m Use the conflicted package (\u001b[3m\u001b[34m<http://conflicted.r-lib.org/>\u001b[39m\u001b[23m) to force all conflicts to become errors\n",
      "── \u001b[1mAttaching packages\u001b[22m ────────────────────────────────────── tidymodels 1.2.0 ──\n",
      "\n",
      "\u001b[32m✔\u001b[39m \u001b[34mbroom       \u001b[39m 1.0.5      \u001b[32m✔\u001b[39m \u001b[34mrsample     \u001b[39m 1.2.1 \n",
      "\u001b[32m✔\u001b[39m \u001b[34mdials       \u001b[39m 1.2.1      \u001b[32m✔\u001b[39m \u001b[34mtune        \u001b[39m 1.2.0 \n",
      "\u001b[32m✔\u001b[39m \u001b[34minfer       \u001b[39m 1.0.7      \u001b[32m✔\u001b[39m \u001b[34mworkflows   \u001b[39m 1.1.4 \n",
      "\u001b[32m✔\u001b[39m \u001b[34mmodeldata   \u001b[39m 1.3.0      \u001b[32m✔\u001b[39m \u001b[34mworkflowsets\u001b[39m 1.1.0 \n",
      "\u001b[32m✔\u001b[39m \u001b[34mparsnip     \u001b[39m 1.2.1      \u001b[32m✔\u001b[39m \u001b[34myardstick   \u001b[39m 1.3.1 \n",
      "\u001b[32m✔\u001b[39m \u001b[34mrecipes     \u001b[39m 1.0.10     \n",
      "\n",
      "── \u001b[1mConflicts\u001b[22m ───────────────────────────────────────── tidymodels_conflicts() ──\n",
      "\u001b[31m✖\u001b[39m \u001b[34mscales\u001b[39m::\u001b[32mdiscard()\u001b[39m masks \u001b[34mpurrr\u001b[39m::discard()\n",
      "\u001b[31m✖\u001b[39m \u001b[34mdplyr\u001b[39m::\u001b[32mfilter()\u001b[39m   masks \u001b[34mstats\u001b[39m::filter()\n",
      "\u001b[31m✖\u001b[39m \u001b[34mrecipes\u001b[39m::\u001b[32mfixed()\u001b[39m  masks \u001b[34mstringr\u001b[39m::fixed()\n",
      "\u001b[31m✖\u001b[39m \u001b[34mdplyr\u001b[39m::\u001b[32mlag()\u001b[39m      masks \u001b[34mstats\u001b[39m::lag()\n",
      "\u001b[31m✖\u001b[39m \u001b[34myardstick\u001b[39m::\u001b[32mspec()\u001b[39m masks \u001b[34mreadr\u001b[39m::spec()\n",
      "\u001b[31m✖\u001b[39m \u001b[34mrecipes\u001b[39m::\u001b[32mstep()\u001b[39m   masks \u001b[34mstats\u001b[39m::step()\n",
      "\u001b[34m•\u001b[39m Use \u001b[32mtidymodels_prefer()\u001b[39m to resolve common conflicts.\n",
      "\n",
      "Loading required package: lattice\n",
      "\n",
      "\n",
      "Attaching package: ‘caret’\n",
      "\n",
      "\n",
      "The following objects are masked from ‘package:yardstick’:\n",
      "\n",
      "    precision, recall, sensitivity, specificity\n",
      "\n",
      "\n",
      "The following object is masked from ‘package:purrr’:\n",
      "\n",
      "    lift\n",
      "\n",
      "\n",
      "\n",
      "Attaching package: ‘e1071’\n",
      "\n",
      "\n",
      "The following object is masked from ‘package:tune’:\n",
      "\n",
      "    tune\n",
      "\n",
      "\n",
      "The following object is masked from ‘package:rsample’:\n",
      "\n",
      "    permutations\n",
      "\n",
      "\n",
      "The following object is masked from ‘package:parsnip’:\n",
      "\n",
      "    tune\n",
      "\n",
      "\n",
      "\n",
      "Attaching package: ‘rpart’\n",
      "\n",
      "\n",
      "The following object is masked from ‘package:dials’:\n",
      "\n",
      "    prune\n",
      "\n",
      "\n",
      "Loading required package: carData\n",
      "\n",
      "\n",
      "Attaching package: ‘car’\n",
      "\n",
      "\n",
      "The following object is masked from ‘package:dplyr’:\n",
      "\n",
      "    recode\n",
      "\n",
      "\n",
      "The following object is masked from ‘package:purrr’:\n",
      "\n",
      "    some\n",
      "\n",
      "\n"
     ]
    }
   ],
   "source": [
    "library(tidyverse)\n",
    "library(repr)\n",
    "library(dplyr)\n",
    "library(ggplot2)\n",
    "library(tidyr)\n",
    "library(tidymodels)\n",
    "library(caret)\n",
    "library(e1071)\n",
    "library(part)\n",
    "library(rpart.plot)\n",
    "library(rpart)\n",
    "library(car)"
   ]
  },
  {
   "cell_type": "markdown",
   "id": "c0099304-cc69-4b95-a1d2-ce20579e9eb0",
   "metadata": {},
   "source": [
    "# Introduction"
   ]
  },
  {
   "cell_type": "markdown",
   "id": "c3cdb9c4-b160-408b-8f3d-aa882aec57c7",
   "metadata": {},
   "source": [
    "In this study, we utilize the UCI Adult Census Salary dataset, which gathers demographic and employment-related information from the 1994 U.S. census.\n",
    "\n",
    "The dataset comprises 15 variables, encompassing both numerical and categorical types, to capture a comprehensive snapshot of the American workforce during that time. The numerical variables include age, final weight (fnlwgt) representing the number of people in the U.S. someone symbolizes, education-num reflecting the total years of education, capital-gain and capital-loss indicating financial earnings or losses from investments outside of work, and hours-per-week detailing work hours. Categorical variables encompass workclass, education, marital status, occupation, relationship, race, sex, native country, and salary, with the latter serving as the prediction target to determine if an individual's annual income exceeds $50,000.\n",
    "\n",
    "The motivation behind analyzing this dataset stems from a desire to understand the critical factors influencing income levels and to identify potential biases in income distribution across different demographic groups, such as gender and race. Additionally, this analysis aims to detect workforce trends, such as variations in education level distributions across different occupations. By employing different techniques and algorithms in data science, this project seeks to predict whether an individual will earn more than $50,000 per year based on their attributes within the dataset. This investigation not only contributes to a deeper understanding of the economic and social dynamics of the 1990s American workforce but also enhances our knowledge of applying data science methodologies in real-world socioeconomic research.\n"
   ]
  },
  {
   "cell_type": "code",
   "execution_count": 4,
   "id": "dd446e7b-b7cf-467a-95d2-72226a289a65",
   "metadata": {},
   "outputs": [
    {
     "data": {
      "text/html": [
       "<table class=\"dataframe\">\n",
       "<caption>A data.frame: 6 × 15</caption>\n",
       "<thead>\n",
       "\t<tr><th></th><th scope=col>age</th><th scope=col>workclass</th><th scope=col>fnlwgt</th><th scope=col>education</th><th scope=col>education_num</th><th scope=col>marital_status</th><th scope=col>occupation</th><th scope=col>relationship</th><th scope=col>race</th><th scope=col>sex</th><th scope=col>capital_gain</th><th scope=col>capital_loss</th><th scope=col>hours_per_week</th><th scope=col>native_country</th><th scope=col>income</th></tr>\n",
       "\t<tr><th></th><th scope=col>&lt;int&gt;</th><th scope=col>&lt;chr&gt;</th><th scope=col>&lt;int&gt;</th><th scope=col>&lt;chr&gt;</th><th scope=col>&lt;int&gt;</th><th scope=col>&lt;chr&gt;</th><th scope=col>&lt;chr&gt;</th><th scope=col>&lt;chr&gt;</th><th scope=col>&lt;chr&gt;</th><th scope=col>&lt;chr&gt;</th><th scope=col>&lt;int&gt;</th><th scope=col>&lt;int&gt;</th><th scope=col>&lt;int&gt;</th><th scope=col>&lt;chr&gt;</th><th scope=col>&lt;chr&gt;</th></tr>\n",
       "</thead>\n",
       "<tbody>\n",
       "\t<tr><th scope=row>1</th><td>39</td><td><span style=white-space:pre-wrap> State-gov       </span></td><td> 77516</td><td> Bachelors</td><td>13</td><td><span style=white-space:pre-wrap> Never-married     </span></td><td><span style=white-space:pre-wrap> Adm-clerical     </span></td><td> Not-in-family</td><td> White</td><td><span style=white-space:pre-wrap> Male  </span></td><td>2174</td><td>0</td><td>40</td><td> United-States</td><td> &lt;=50K</td></tr>\n",
       "\t<tr><th scope=row>2</th><td>50</td><td> Self-emp-not-inc</td><td> 83311</td><td> Bachelors</td><td>13</td><td> Married-civ-spouse</td><td><span style=white-space:pre-wrap> Exec-managerial  </span></td><td><span style=white-space:pre-wrap> Husband      </span></td><td> White</td><td><span style=white-space:pre-wrap> Male  </span></td><td><span style=white-space:pre-wrap>   0</span></td><td>0</td><td>13</td><td> United-States</td><td> &lt;=50K</td></tr>\n",
       "\t<tr><th scope=row>3</th><td>38</td><td><span style=white-space:pre-wrap> Private         </span></td><td>215646</td><td><span style=white-space:pre-wrap> HS-grad  </span></td><td> 9</td><td><span style=white-space:pre-wrap> Divorced          </span></td><td> Handlers-cleaners</td><td> Not-in-family</td><td> White</td><td><span style=white-space:pre-wrap> Male  </span></td><td><span style=white-space:pre-wrap>   0</span></td><td>0</td><td>40</td><td> United-States</td><td> &lt;=50K</td></tr>\n",
       "\t<tr><th scope=row>4</th><td>53</td><td><span style=white-space:pre-wrap> Private         </span></td><td>234721</td><td><span style=white-space:pre-wrap> 11th     </span></td><td> 7</td><td> Married-civ-spouse</td><td> Handlers-cleaners</td><td><span style=white-space:pre-wrap> Husband      </span></td><td> Black</td><td><span style=white-space:pre-wrap> Male  </span></td><td><span style=white-space:pre-wrap>   0</span></td><td>0</td><td>40</td><td> United-States</td><td> &lt;=50K</td></tr>\n",
       "\t<tr><th scope=row>5</th><td>28</td><td><span style=white-space:pre-wrap> Private         </span></td><td>338409</td><td> Bachelors</td><td>13</td><td> Married-civ-spouse</td><td><span style=white-space:pre-wrap> Prof-specialty   </span></td><td><span style=white-space:pre-wrap> Wife         </span></td><td> Black</td><td> Female</td><td><span style=white-space:pre-wrap>   0</span></td><td>0</td><td>40</td><td><span style=white-space:pre-wrap> Cuba         </span></td><td> &lt;=50K</td></tr>\n",
       "\t<tr><th scope=row>6</th><td>37</td><td><span style=white-space:pre-wrap> Private         </span></td><td>284582</td><td><span style=white-space:pre-wrap> Masters  </span></td><td>14</td><td> Married-civ-spouse</td><td><span style=white-space:pre-wrap> Exec-managerial  </span></td><td><span style=white-space:pre-wrap> Wife         </span></td><td> White</td><td> Female</td><td><span style=white-space:pre-wrap>   0</span></td><td>0</td><td>40</td><td> United-States</td><td> &lt;=50K</td></tr>\n",
       "</tbody>\n",
       "</table>\n"
      ],
      "text/latex": [
       "A data.frame: 6 × 15\n",
       "\\begin{tabular}{r|lllllllllllllll}\n",
       "  & age & workclass & fnlwgt & education & education\\_num & marital\\_status & occupation & relationship & race & sex & capital\\_gain & capital\\_loss & hours\\_per\\_week & native\\_country & income\\\\\n",
       "  & <int> & <chr> & <int> & <chr> & <int> & <chr> & <chr> & <chr> & <chr> & <chr> & <int> & <int> & <int> & <chr> & <chr>\\\\\n",
       "\\hline\n",
       "\t1 & 39 &  State-gov        &  77516 &  Bachelors & 13 &  Never-married      &  Adm-clerical      &  Not-in-family &  White &  Male   & 2174 & 0 & 40 &  United-States &  <=50K\\\\\n",
       "\t2 & 50 &  Self-emp-not-inc &  83311 &  Bachelors & 13 &  Married-civ-spouse &  Exec-managerial   &  Husband       &  White &  Male   &    0 & 0 & 13 &  United-States &  <=50K\\\\\n",
       "\t3 & 38 &  Private          & 215646 &  HS-grad   &  9 &  Divorced           &  Handlers-cleaners &  Not-in-family &  White &  Male   &    0 & 0 & 40 &  United-States &  <=50K\\\\\n",
       "\t4 & 53 &  Private          & 234721 &  11th      &  7 &  Married-civ-spouse &  Handlers-cleaners &  Husband       &  Black &  Male   &    0 & 0 & 40 &  United-States &  <=50K\\\\\n",
       "\t5 & 28 &  Private          & 338409 &  Bachelors & 13 &  Married-civ-spouse &  Prof-specialty    &  Wife          &  Black &  Female &    0 & 0 & 40 &  Cuba          &  <=50K\\\\\n",
       "\t6 & 37 &  Private          & 284582 &  Masters   & 14 &  Married-civ-spouse &  Exec-managerial   &  Wife          &  White &  Female &    0 & 0 & 40 &  United-States &  <=50K\\\\\n",
       "\\end{tabular}\n"
      ],
      "text/markdown": [
       "\n",
       "A data.frame: 6 × 15\n",
       "\n",
       "| <!--/--> | age &lt;int&gt; | workclass &lt;chr&gt; | fnlwgt &lt;int&gt; | education &lt;chr&gt; | education_num &lt;int&gt; | marital_status &lt;chr&gt; | occupation &lt;chr&gt; | relationship &lt;chr&gt; | race &lt;chr&gt; | sex &lt;chr&gt; | capital_gain &lt;int&gt; | capital_loss &lt;int&gt; | hours_per_week &lt;int&gt; | native_country &lt;chr&gt; | income &lt;chr&gt; |\n",
       "|---|---|---|---|---|---|---|---|---|---|---|---|---|---|---|---|\n",
       "| 1 | 39 |  State-gov        |  77516 |  Bachelors | 13 |  Never-married      |  Adm-clerical      |  Not-in-family |  White |  Male   | 2174 | 0 | 40 |  United-States |  &lt;=50K |\n",
       "| 2 | 50 |  Self-emp-not-inc |  83311 |  Bachelors | 13 |  Married-civ-spouse |  Exec-managerial   |  Husband       |  White |  Male   |    0 | 0 | 13 |  United-States |  &lt;=50K |\n",
       "| 3 | 38 |  Private          | 215646 |  HS-grad   |  9 |  Divorced           |  Handlers-cleaners |  Not-in-family |  White |  Male   |    0 | 0 | 40 |  United-States |  &lt;=50K |\n",
       "| 4 | 53 |  Private          | 234721 |  11th      |  7 |  Married-civ-spouse |  Handlers-cleaners |  Husband       |  Black |  Male   |    0 | 0 | 40 |  United-States |  &lt;=50K |\n",
       "| 5 | 28 |  Private          | 338409 |  Bachelors | 13 |  Married-civ-spouse |  Prof-specialty    |  Wife          |  Black |  Female |    0 | 0 | 40 |  Cuba          |  &lt;=50K |\n",
       "| 6 | 37 |  Private          | 284582 |  Masters   | 14 |  Married-civ-spouse |  Exec-managerial   |  Wife          |  White |  Female |    0 | 0 | 40 |  United-States |  &lt;=50K |\n",
       "\n"
      ],
      "text/plain": [
       "  age workclass         fnlwgt education  education_num marital_status     \n",
       "1 39   State-gov         77516  Bachelors 13             Never-married     \n",
       "2 50   Self-emp-not-inc  83311  Bachelors 13             Married-civ-spouse\n",
       "3 38   Private          215646  HS-grad    9             Divorced          \n",
       "4 53   Private          234721  11th       7             Married-civ-spouse\n",
       "5 28   Private          338409  Bachelors 13             Married-civ-spouse\n",
       "6 37   Private          284582  Masters   14             Married-civ-spouse\n",
       "  occupation         relationship   race   sex     capital_gain capital_loss\n",
       "1  Adm-clerical       Not-in-family  White  Male   2174         0           \n",
       "2  Exec-managerial    Husband        White  Male      0         0           \n",
       "3  Handlers-cleaners  Not-in-family  White  Male      0         0           \n",
       "4  Handlers-cleaners  Husband        Black  Male      0         0           \n",
       "5  Prof-specialty     Wife           Black  Female    0         0           \n",
       "6  Exec-managerial    Wife           White  Female    0         0           \n",
       "  hours_per_week native_country income\n",
       "1 40              United-States  <=50K\n",
       "2 13              United-States  <=50K\n",
       "3 40              United-States  <=50K\n",
       "4 40              United-States  <=50K\n",
       "5 40              Cuba           <=50K\n",
       "6 40              United-States  <=50K"
      ]
     },
     "metadata": {},
     "output_type": "display_data"
    }
   ],
   "source": [
    "# Read the adult.data file\n",
    "# The `adult.names` file typically contains information on the attributes and you need to specify them manually\n",
    "column_names = c(\"age\", \"workclass\", \"fnlwgt\", \"education\", \"education_num\", \"marital_status\", \"occupation\", \n",
    "                 \"relationship\", \"race\", \"sex\", \"capital_gain\", \"capital_loss\", \"hours_per_week\", \"native_country\", \n",
    "                 \"income\")\n",
    "\n",
    "adult_data <- read.csv(\"~/Downloads/adult (1)/adult.data\", header = FALSE, sep = \",\", col.names = column_names, na.strings = \" ?\")\n",
    "\n",
    "# Check the first few rows of the data\n",
    "head(adult_data)\n"
   ]
  },
  {
   "cell_type": "markdown",
   "id": "8905d97f-beb5-47e9-89e9-0b47e4b73789",
   "metadata": {},
   "source": [
    "Numerical Variables:\n",
    "\n",
    "- age: How old someone is. (Years)\n",
    "- fnlwgt: A number showing how many people in the U.S. someone represents. (People)\n",
    "- education-num: The total number of years someone went to school. (Years)\n",
    "- capital-gain: Money made from investments beyond work. (Dollars, USD)\n",
    "- capital-loss: Money lost from investments beyond work. (Dollars, USD)\n",
    "- hours-per-week: The number of hours someone works each week. (Hours)\n",
    "\n",
    "Categorical Variables:\n",
    "\n",
    "- workclass: Type of employment, like government or self-employed.\n",
    "- education: Highest level of school completed, such as high school or bachelor's degree.\n",
    "- marital-status: Whether someone is married, single, divorced, etc.\n",
    "- occupation: The kind of job someone has, like teacher or engineer.\n",
    "- relationship: A person's role in their family, such as parent or spouse.\n",
    "- race: Group identity based on physical characteristics.\n",
    "- sex: Gender, male or female.\n",
    "- native-country: The country where someone was born.\n",
    "- salary: If someone's income is more or less than $50,000 annually. This is the target for prediction.\n"
   ]
  },
  {
   "cell_type": "code",
   "execution_count": 5,
   "id": "a7d97b6e-b641-4a42-a315-3d30eb77e038",
   "metadata": {},
   "outputs": [
    {
     "data": {
      "text/html": [
       "32561"
      ],
      "text/latex": [
       "32561"
      ],
      "text/markdown": [
       "32561"
      ],
      "text/plain": [
       "[1] 32561"
      ]
     },
     "metadata": {},
     "output_type": "display_data"
    }
   ],
   "source": [
    "nrow(adult_data)"
   ]
  },
  {
   "cell_type": "markdown",
   "id": "791ecfae-fb02-4d9c-b5d3-ea0f6dc66f9c",
   "metadata": {},
   "source": [
    "# EDA"
   ]
  },
  {
   "cell_type": "markdown",
   "id": "521859e6-a823-4d5b-b164-f828b9a74c8e",
   "metadata": {},
   "source": [
    "\n",
    "### Figure1. Age vs number of people who receive income > 50k by different sex group\n"
   ]
  },
  {
   "cell_type": "code",
   "execution_count": 6,
   "id": "e15c4929-a587-48cc-9b6f-8994edbd4475",
   "metadata": {},
   "outputs": [
    {
     "data": {
      "image/png": "[encoded data removed]",
      "text/plain": [
       "plot without title"
      ]
     },
     "metadata": {
      "image/png": {
       "height": 420,
       "width": 420
      }
     },
     "output_type": "display_data"
    }
   ],
   "source": [
    "summary_data <- adult_data %>%\n",
    "    group_by(age, sex, income) %>%\n",
    "    summarise(count = n(), .groups = 'drop') %>%\n",
    "    mutate(income = ifelse(income == 0, \"<=50k\", \">50k\"))\n",
    "\n",
    "ggplot(summary_data, aes(x = age, y = count, fill = income)) +\n",
    "    geom_bar(stat = \"identity\", position = \"dodge\") +\n",
    "    facet_grid(. ~ sex) +\n",
    "    labs(x = \"Age\", y = \"Count\", fill = \"Income\") +\n",
    "    theme_minimal()\n"
   ]
  },
  {
   "cell_type": "code",
   "execution_count": 7,
   "id": "08c4ead5-a69c-46be-98f7-e81f9583921c",
   "metadata": {},
   "outputs": [
    {
     "data": {
      "text/html": [
       "<table class=\"dataframe\">\n",
       "<caption>A tibble: 6 × 4</caption>\n",
       "<thead>\n",
       "\t<tr><th scope=col>age</th><th scope=col>sex</th><th scope=col>income</th><th scope=col>count</th></tr>\n",
       "\t<tr><th scope=col>&lt;int&gt;</th><th scope=col>&lt;chr&gt;</th><th scope=col>&lt;chr&gt;</th><th scope=col>&lt;int&gt;</th></tr>\n",
       "</thead>\n",
       "<tbody>\n",
       "\t<tr><td>17</td><td> Female</td><td>&gt;50k</td><td>186</td></tr>\n",
       "\t<tr><td>17</td><td><span style=white-space:pre-wrap> Male  </span></td><td>&gt;50k</td><td>209</td></tr>\n",
       "\t<tr><td>18</td><td> Female</td><td>&gt;50k</td><td>268</td></tr>\n",
       "\t<tr><td>18</td><td><span style=white-space:pre-wrap> Male  </span></td><td>&gt;50k</td><td>282</td></tr>\n",
       "\t<tr><td>19</td><td> Female</td><td>&gt;50k</td><td>355</td></tr>\n",
       "\t<tr><td>19</td><td> Female</td><td>&gt;50k</td><td><span style=white-space:pre-wrap>  1</span></td></tr>\n",
       "</tbody>\n",
       "</table>\n"
      ],
      "text/latex": [
       "A tibble: 6 × 4\n",
       "\\begin{tabular}{llll}\n",
       " age & sex & income & count\\\\\n",
       " <int> & <chr> & <chr> & <int>\\\\\n",
       "\\hline\n",
       "\t 17 &  Female & >50k & 186\\\\\n",
       "\t 17 &  Male   & >50k & 209\\\\\n",
       "\t 18 &  Female & >50k & 268\\\\\n",
       "\t 18 &  Male   & >50k & 282\\\\\n",
       "\t 19 &  Female & >50k & 355\\\\\n",
       "\t 19 &  Female & >50k &   1\\\\\n",
       "\\end{tabular}\n"
      ],
      "text/markdown": [
       "\n",
       "A tibble: 6 × 4\n",
       "\n",
       "| age &lt;int&gt; | sex &lt;chr&gt; | income &lt;chr&gt; | count &lt;int&gt; |\n",
       "|---|---|---|---|\n",
       "| 17 |  Female | &gt;50k | 186 |\n",
       "| 17 |  Male   | &gt;50k | 209 |\n",
       "| 18 |  Female | &gt;50k | 268 |\n",
       "| 18 |  Male   | &gt;50k | 282 |\n",
       "| 19 |  Female | &gt;50k | 355 |\n",
       "| 19 |  Female | &gt;50k |   1 |\n",
       "\n"
      ],
      "text/plain": [
       "  age sex     income count\n",
       "1 17   Female >50k   186  \n",
       "2 17   Male   >50k   209  \n",
       "3 18   Female >50k   268  \n",
       "4 18   Male   >50k   282  \n",
       "5 19   Female >50k   355  \n",
       "6 19   Female >50k     1  "
      ]
     },
     "metadata": {},
     "output_type": "display_data"
    }
   ],
   "source": [
    "head(summary_data)"
   ]
  },
  {
   "cell_type": "markdown",
   "id": "b9183b7b-d38a-4fd9-bb57-466abcdbc6cd",
   "metadata": {},
   "source": [
    "### Figure2. Education vs number of people who receive income > 50k"
   ]
  },
  {
   "cell_type": "code",
   "execution_count": 8,
   "id": "5fa505f3-ed9e-4e3e-a23a-1919ecf0569c",
   "metadata": {},
   "outputs": [
    {
     "data": {
      "image/png": "[encoded data removed]",
      "text/plain": [
       "plot without title"
      ]
     },
     "metadata": {
      "image/png": {
       "height": 420,
       "width": 420
      }
     },
     "output_type": "display_data"
    }
   ],
   "source": [
    "summary_data <- adult_data %>%\n",
    "    group_by(education, income) %>%\n",
    "    summarise(count = n(), .groups = 'drop') %>%\n",
    "    mutate(income = ifelse(income == 0, \"<=50k\", \">50k\"))\n",
    "ggplot(summary_data, aes(x = education, y = count, fill = income)) +\n",
    "  geom_bar(stat = \"identity\", position = \"dodge\") +\n",
    "  labs(x = \"Education\", y = \"Count\", fill = \"Income\") +\n",
    "  theme_minimal() +\n",
    "  theme(axis.text.x = element_text(angle = 45, hjust = 1)) # Combine theme settings\n"
   ]
  },
  {
   "cell_type": "markdown",
   "id": "1c03ad01-0f5d-46b1-bcbd-d4149b526f6a",
   "metadata": {},
   "source": [
    "### Figure 3: Race vs Number of People Colored by Income of Different Sex Groups"
   ]
  },
  {
   "cell_type": "code",
   "execution_count": 9,
   "id": "df5e9bc5-95e4-4886-bcc5-6e51edbcdf59",
   "metadata": {},
   "outputs": [
    {
     "data": {
      "image/png": "[encoded data removed]",
      "text/plain": [
       "plot without title"
      ]
     },
     "metadata": {
      "image/png": {
       "height": 420,
       "width": 420
      }
     },
     "output_type": "display_data"
    }
   ],
   "source": [
    "summary_data <- adult_data %>%\n",
    "  group_by(race, sex, income) %>%\n",
    "  summarise(count = n(), .groups = 'drop') # Drop the grouping\n",
    "\n",
    "# Plotting the data\n",
    "ggplot(summary_data, aes(x = race, y = count, fill = income)) +\n",
    "  geom_bar(stat = \"identity\", position = \"dodge\") +\n",
    "  facet_wrap(~sex, scales = \"free\") +\n",
    "  labs(x = \"Race\", y = \"Count\", fill = \"Income\") +\n",
    "  theme(axis.text.x = element_text(angle = 45, hjust = 1)) +\n",
    "  theme_minimal()"
   ]
  },
  {
   "cell_type": "markdown",
   "id": "09c15118-b200-41ae-873c-ccc9b92e9120",
   "metadata": {},
   "source": [
    "### Figure 4: Sex vs Number of People Represented (fnlwgt) Colored by Income\n"
   ]
  },
  {
   "cell_type": "code",
   "execution_count": 10,
   "id": "11bda037-8714-49fd-988c-acdc400b4dd5",
   "metadata": {},
   "outputs": [
    {
     "data": {
      "image/png": "[encoded data removed]",
      "text/plain": [
       "plot without title"
      ]
     },
     "metadata": {
      "image/png": {
       "height": 420,
       "width": 420
      }
     },
     "output_type": "display_data"
    }
   ],
   "source": [
    "fnlwgt_data <- adult_data %>%\n",
    "  group_by(sex, income) %>%\n",
    "  summarise(total_fnlwgt = sum(fnlwgt), .groups = 'drop') # Sum fnlwgt and drop the grouping\n",
    "\n",
    "# Plotting the data\n",
    "ggplot(fnlwgt_data, aes(x = sex, y = total_fnlwgt, fill = income)) +\n",
    "  geom_bar(stat = \"identity\", position = \"dodge\") +\n",
    "  labs(x = \"Sex\", y = \"Number of People Represented\", fill = \"Income\") +\n",
    "  theme(axis.text.x = element_text(angle = 45, hjust = 1)) +\n",
    "  theme_minimal()"
   ]
  },
  {
   "cell_type": "markdown",
   "id": "8d9a3dc9-9a71-4133-ba93-eba63994ef74",
   "metadata": {},
   "source": [
    "### Figure 5: Education number vs Count of each income class Colored by Income"
   ]
  },
  {
   "cell_type": "code",
   "execution_count": 11,
   "id": "17b2d91f-335b-464f-b7f5-5fce834b93b5",
   "metadata": {},
   "outputs": [
    {
     "name": "stderr",
     "output_type": "stream",
     "text": [
      "\u001b[1m\u001b[22m`summarise()` has grouped output by 'education_num'. You can override using the\n",
      "`.groups` argument.\n"
     ]
    },
    {
     "data": {
      "image/png": "[encoded data removed]",
      "text/plain": [
       "plot without title"
      ]
     },
     "metadata": {
      "image/png": {
       "height": 420,
       "width": 420
      }
     },
     "output_type": "display_data"
    }
   ],
   "source": [
    "summary_data <-adult_data%>%group_by(education_num,income) %>%summarise(count = n())\n",
    "ggplot(summary_data, aes(x=education_num, y = count, color =income)) +geom_point()+labs(x = \"education_num\", y = \"Count\", color = \"income\")+theme_minimal()+coord_cartesian(ylim = c(0, 2500))"
   ]
  },
  {
   "cell_type": "markdown",
   "id": "8e0c562d-d018-4280-bfe9-d4a9b16193d3",
   "metadata": {},
   "source": [
    "# Data_cleaning"
   ]
  },
  {
   "cell_type": "markdown",
   "id": "3ac1ae17-838b-494c-8d99-7f4bc20de9b9",
   "metadata": {},
   "source": [
    "### summary stat"
   ]
  },
  {
   "cell_type": "code",
   "execution_count": 12,
   "id": "b349d592-6182-42dc-90df-061879388043",
   "metadata": {},
   "outputs": [
    {
     "name": "stdout",
     "output_type": "stream",
     "text": [
      "'data.frame':\t32561 obs. of  15 variables:\n",
      " $ age           : int  39 50 38 53 28 37 49 52 31 42 ...\n",
      " $ workclass     : chr  \" State-gov\" \" Self-emp-not-inc\" \" Private\" \" Private\" ...\n",
      " $ fnlwgt        : int  77516 83311 215646 234721 338409 284582 160187 209642 45781 159449 ...\n",
      " $ education     : chr  \" Bachelors\" \" Bachelors\" \" HS-grad\" \" 11th\" ...\n",
      " $ education_num : int  13 13 9 7 13 14 5 9 14 13 ...\n",
      " $ marital_status: chr  \" Never-married\" \" Married-civ-spouse\" \" Divorced\" \" Married-civ-spouse\" ...\n",
      " $ occupation    : chr  \" Adm-clerical\" \" Exec-managerial\" \" Handlers-cleaners\" \" Handlers-cleaners\" ...\n",
      " $ relationship  : chr  \" Not-in-family\" \" Husband\" \" Not-in-family\" \" Husband\" ...\n",
      " $ race          : chr  \" White\" \" White\" \" White\" \" Black\" ...\n",
      " $ sex           : chr  \" Male\" \" Male\" \" Male\" \" Male\" ...\n",
      " $ capital_gain  : int  2174 0 0 0 0 0 0 0 14084 5178 ...\n",
      " $ capital_loss  : int  0 0 0 0 0 0 0 0 0 0 ...\n",
      " $ hours_per_week: int  40 13 40 40 40 40 16 45 50 40 ...\n",
      " $ native_country: chr  \" United-States\" \" United-States\" \" United-States\" \" United-States\" ...\n",
      " $ income        : chr  \" <=50K\" \" <=50K\" \" <=50K\" \" <=50K\" ...\n"
     ]
    }
   ],
   "source": [
    "# Displaying the structure of the dataset\n",
    "str(adult_data)"
   ]
  },
  {
   "cell_type": "code",
   "execution_count": 13,
   "id": "927cd435-54c4-47f1-80ab-148b89b69d08",
   "metadata": {},
   "outputs": [
    {
     "data": {
      "text/plain": [
       "      age         workclass             fnlwgt         education        \n",
       " Min.   :17.00   Length:32561       Min.   :  12285   Length:32561      \n",
       " 1st Qu.:28.00   Class :character   1st Qu.: 117827   Class :character  \n",
       " Median :37.00   Mode  :character   Median : 178356   Mode  :character  \n",
       " Mean   :38.58                      Mean   : 189778                     \n",
       " 3rd Qu.:48.00                      3rd Qu.: 237051                     \n",
       " Max.   :90.00                      Max.   :1484705                     \n",
       " education_num   marital_status      occupation        relationship      \n",
       " Min.   : 1.00   Length:32561       Length:32561       Length:32561      \n",
       " 1st Qu.: 9.00   Class :character   Class :character   Class :character  \n",
       " Median :10.00   Mode  :character   Mode  :character   Mode  :character  \n",
       " Mean   :10.08                                                           \n",
       " 3rd Qu.:12.00                                                           \n",
       " Max.   :16.00                                                           \n",
       "     race               sex             capital_gain    capital_loss   \n",
       " Length:32561       Length:32561       Min.   :    0   Min.   :   0.0  \n",
       " Class :character   Class :character   1st Qu.:    0   1st Qu.:   0.0  \n",
       " Mode  :character   Mode  :character   Median :    0   Median :   0.0  \n",
       "                                       Mean   : 1078   Mean   :  87.3  \n",
       "                                       3rd Qu.:    0   3rd Qu.:   0.0  \n",
       "                                       Max.   :99999   Max.   :4356.0  \n",
       " hours_per_week  native_country        income         \n",
       " Min.   : 1.00   Length:32561       Length:32561      \n",
       " 1st Qu.:40.00   Class :character   Class :character  \n",
       " Median :40.00   Mode  :character   Mode  :character  \n",
       " Mean   :40.44                                        \n",
       " 3rd Qu.:45.00                                        \n",
       " Max.   :99.00                                        "
      ]
     },
     "metadata": {},
     "output_type": "display_data"
    }
   ],
   "source": [
    "summary(adult_data)"
   ]
  },
  {
   "cell_type": "markdown",
   "id": "ce1edacc-12e2-4db0-a8ad-dac835ed52ac",
   "metadata": {},
   "source": [
    "### remove missing values by replacing with mode"
   ]
  },
  {
   "cell_type": "code",
   "execution_count": 14,
   "id": "af8d20fe-7ef0-4785-a2bf-0d635c9a387a",
   "metadata": {},
   "outputs": [
    {
     "name": "stdout",
     "output_type": "stream",
     "text": [
      "           age      workclass         fnlwgt      education  education_num \n",
      "             0           1836              0              0              0 \n",
      "marital_status     occupation   relationship           race            sex \n",
      "             0           1843              0              0              0 \n",
      "  capital_gain   capital_loss hours_per_week native_country         income \n",
      "             0              0              0            583              0 \n"
     ]
    }
   ],
   "source": [
    "# Counting missing values for each column\n",
    "missing_values_per_column <- sapply(adult_data, function(x) sum(is.na(x)))\n",
    "print(missing_values_per_column)\n"
   ]
  },
  {
   "cell_type": "code",
   "execution_count": 15,
   "id": "05508b86-d678-4a54-ad85-aaaab0724f8d",
   "metadata": {},
   "outputs": [],
   "source": [
    "# For the 'workclass' and 'occupation' categorical variables, you can replace missing values with the mode.\n",
    "getmode <- function(v) {\n",
    "   uniqv <- unique(v)\n",
    "   uniqv[which.max(tabulate(match(v, uniqv)))]\n",
    "}\n",
    "\n",
    "# Replace NA with the most common value (mode)\n",
    "adult_data$workclass[is.na(adult_data$workclass)] <- getmode(adult_data$workclass)\n",
    "adult_data$occupation[is.na(adult_data$occupation)] <- getmode(adult_data$occupation)\n",
    "adult_data$native_country[is.na(adult_data$native_country)] <- getmode(adult_data$native_country)\n"
   ]
  },
  {
   "cell_type": "code",
   "execution_count": 16,
   "id": "3c915e5e-e38d-4a2d-93e1-48a002501ad1",
   "metadata": {},
   "outputs": [],
   "source": [
    "# Assuming df is your dataframe\n",
    "numeric_columns <- sapply(adult_data, is.numeric)\n",
    "\n",
    "# Applying scale function to only numeric columns\n",
    "adult_data[numeric_columns] <- lapply(adult_data[numeric_columns], scale)\n",
    "\n"
   ]
  },
  {
   "cell_type": "code",
   "execution_count": 17,
   "id": "74c5e975-041d-41ff-a0af-9527a0ea8c69",
   "metadata": {},
   "outputs": [
    {
     "data": {
      "text/html": [
       "<style>\n",
       ".dl-inline {width: auto; margin:0; padding: 0}\n",
       ".dl-inline>dt, .dl-inline>dd {float: none; width: auto; display: inline-block}\n",
       ".dl-inline>dt::after {content: \":\\0020\"; padding-right: .5ex}\n",
       ".dl-inline>dt:not(:first-of-type) {padding-left: .5ex}\n",
       "</style><dl class=dl-inline><dt>age</dt><dd>-4.9228832129044e-17</dd><dt>fnlwgt</dt><dd>-1.18192840900483e-16</dd><dt>education_num</dt><dd>-9.22554724280055e-17</dd><dt>capital_gain</dt><dd>-1.0937543129488e-15</dd><dt>capital_loss</dt><dd>6.75745677759702e-16</dd><dt>hours_per_week</dt><dd>-5.80379306612086e-16</dd></dl>\n"
      ],
      "text/latex": [
       "\\begin{description*}\n",
       "\\item[age] -4.9228832129044e-17\n",
       "\\item[fnlwgt] -1.18192840900483e-16\n",
       "\\item[education\\textbackslash{}\\_num] -9.22554724280055e-17\n",
       "\\item[capital\\textbackslash{}\\_gain] -1.0937543129488e-15\n",
       "\\item[capital\\textbackslash{}\\_loss] 6.75745677759702e-16\n",
       "\\item[hours\\textbackslash{}\\_per\\textbackslash{}\\_week] -5.80379306612086e-16\n",
       "\\end{description*}\n"
      ],
      "text/markdown": [
       "age\n",
       ":   -4.9228832129044e-17fnlwgt\n",
       ":   -1.18192840900483e-16education_num\n",
       ":   -9.22554724280055e-17capital_gain\n",
       ":   -1.0937543129488e-15capital_loss\n",
       ":   6.75745677759702e-16hours_per_week\n",
       ":   -5.80379306612086e-16\n",
       "\n"
      ],
      "text/plain": [
       "           age         fnlwgt  education_num   capital_gain   capital_loss \n",
       " -4.922883e-17  -1.181928e-16  -9.225547e-17  -1.093754e-15   6.757457e-16 \n",
       "hours_per_week \n",
       " -5.803793e-16 "
      ]
     },
     "metadata": {},
     "output_type": "display_data"
    },
    {
     "data": {
      "text/html": [
       "<style>\n",
       ".dl-inline {width: auto; margin:0; padding: 0}\n",
       ".dl-inline>dt, .dl-inline>dd {float: none; width: auto; display: inline-block}\n",
       ".dl-inline>dt::after {content: \":\\0020\"; padding-right: .5ex}\n",
       ".dl-inline>dt:not(:first-of-type) {padding-left: .5ex}\n",
       "</style><dl class=dl-inline><dt>age</dt><dd>0.999999999999992</dd><dt>fnlwgt</dt><dd>0.999999999999996</dd><dt>education_num</dt><dd>0.999999999999974</dd><dt>capital_gain</dt><dd>1.00000000000032</dd><dt>capital_loss</dt><dd>0.999999999999902</dd><dt>hours_per_week</dt><dd>1.00000000000027</dd></dl>\n"
      ],
      "text/latex": [
       "\\begin{description*}\n",
       "\\item[age] 0.999999999999992\n",
       "\\item[fnlwgt] 0.999999999999996\n",
       "\\item[education\\textbackslash{}\\_num] 0.999999999999974\n",
       "\\item[capital\\textbackslash{}\\_gain] 1.00000000000032\n",
       "\\item[capital\\textbackslash{}\\_loss] 0.999999999999902\n",
       "\\item[hours\\textbackslash{}\\_per\\textbackslash{}\\_week] 1.00000000000027\n",
       "\\end{description*}\n"
      ],
      "text/markdown": [
       "age\n",
       ":   0.999999999999992fnlwgt\n",
       ":   0.999999999999996education_num\n",
       ":   0.999999999999974capital_gain\n",
       ":   1.00000000000032capital_loss\n",
       ":   0.999999999999902hours_per_week\n",
       ":   1.00000000000027\n",
       "\n"
      ],
      "text/plain": [
       "           age         fnlwgt  education_num   capital_gain   capital_loss \n",
       "             1              1              1              1              1 \n",
       "hours_per_week \n",
       "             1 "
      ]
     },
     "metadata": {},
     "output_type": "display_data"
    }
   ],
   "source": [
    "# Check the mean and standard deviation of the numeric columns\n",
    "sapply(adult_data[numeric_columns], mean)  # Should be very close to 0\n",
    "sapply(adult_data[numeric_columns], sd)    # Should be close to 1\n"
   ]
  },
  {
   "cell_type": "markdown",
   "id": "d8092c7d-1276-4227-8791-6a8efcba1f6c",
   "metadata": {},
   "source": [
    "### transforming the response var to 0 and 1"
   ]
  },
  {
   "cell_type": "code",
   "execution_count": 18,
   "id": "dff7d064-2fa5-4632-816d-d267b1f0334d",
   "metadata": {},
   "outputs": [
    {
     "data": {
      "text/plain": [
       "\n",
       "    0     1 \n",
       "24720  7841 "
      ]
     },
     "metadata": {},
     "output_type": "display_data"
    }
   ],
   "source": [
    "# Trim leading and trailing whitespace\n",
    "adult_data$income <- trimws(adult_data$income)\n",
    "\n",
    "# Transformation so response is 0 or 1\n",
    "adult_data$income <- ifelse(adult_data$income == \">50K\", 1, 0)\n",
    "\n",
    "# Check the changes\n",
    "table(adult_data$income)\n"
   ]
  },
  {
   "cell_type": "markdown",
   "id": "8468c1de-4f5c-4245-8cb7-fd349d592e4c",
   "metadata": {},
   "source": [
    "### spliting the dataset"
   ]
  },
  {
   "cell_type": "code",
   "execution_count": 19,
   "id": "a282c13a-8612-451a-9beb-dce798348327",
   "metadata": {},
   "outputs": [],
   "source": [
    "set.seed(123) # Setting a seed for reproducibility\n",
    "\n",
    "# Assuming 'data' is your dataframe\n",
    "sample_size <- floor(0.75 * nrow(adult_data)) # Size of the training set: 75% of the data\n",
    "\n",
    "# Creating a random sample of row indices for the training set\n",
    "train_indices <- sample(seq_len(nrow(adult_data)), size = sample_size)\n",
    "\n",
    "# Splitting the data into training and testing sets\n",
    "train_set <- adult_data[train_indices, ]\n",
    "test_set <- adult_data[-train_indices, ]\n"
   ]
  },
  {
   "cell_type": "code",
   "execution_count": 20,
   "id": "a4809fd1-1600-4727-8d86-95f72ee71ac6",
   "metadata": {},
   "outputs": [
    {
     "data": {
      "text/html": [
       "<table class=\"dataframe\">\n",
       "<caption>A data.frame: 20 × 15</caption>\n",
       "<thead>\n",
       "\t<tr><th></th><th scope=col>age</th><th scope=col>workclass</th><th scope=col>fnlwgt</th><th scope=col>education</th><th scope=col>education_num</th><th scope=col>marital_status</th><th scope=col>occupation</th><th scope=col>relationship</th><th scope=col>race</th><th scope=col>sex</th><th scope=col>capital_gain</th><th scope=col>capital_loss</th><th scope=col>hours_per_week</th><th scope=col>native_country</th><th scope=col>income</th></tr>\n",
       "\t<tr><th></th><th scope=col>&lt;dbl[,1]&gt;</th><th scope=col>&lt;chr&gt;</th><th scope=col>&lt;dbl[,1]&gt;</th><th scope=col>&lt;chr&gt;</th><th scope=col>&lt;dbl[,1]&gt;</th><th scope=col>&lt;chr&gt;</th><th scope=col>&lt;chr&gt;</th><th scope=col>&lt;chr&gt;</th><th scope=col>&lt;chr&gt;</th><th scope=col>&lt;chr&gt;</th><th scope=col>&lt;dbl[,1]&gt;</th><th scope=col>&lt;dbl[,1]&gt;</th><th scope=col>&lt;dbl[,1]&gt;</th><th scope=col>&lt;chr&gt;</th><th scope=col>&lt;dbl&gt;</th></tr>\n",
       "</thead>\n",
       "<tbody>\n",
       "\t<tr><th scope=row>18847</th><td>-0.40919866</td><td> Private         </td><td>-0.83039683</td><td> Some-college</td><td>-0.03135955</td><td> Never-married     </td><td> Prof-specialty   </td><td> Own-child    </td><td> White             </td><td> Male  </td><td>-0.1459182</td><td>-0.2166562</td><td>-0.0354289</td><td> United-States</td><td>0</td></tr>\n",
       "\t<tr><th scope=row>18895</th><td>-0.92237887</td><td> Private         </td><td>-0.55753083</td><td> HS-grad     </td><td>-0.42005317</td><td> Never-married     </td><td> Adm-clerical     </td><td> Own-child    </td><td> Black             </td><td> Female</td><td>-0.1459182</td><td>-0.2166562</td><td>-0.0354289</td><td> United-States</td><td>0</td></tr>\n",
       "\t<tr><th scope=row>26803</th><td> 0.10398154</td><td> Private         </td><td> 0.41072139</td><td> 7th-8th     </td><td>-2.36352131</td><td> Married-civ-spouse</td><td> Craft-repair     </td><td> Husband      </td><td> White             </td><td> Male  </td><td>-0.1459182</td><td>-0.2166562</td><td>-0.0354289</td><td> El-Salvador  </td><td>0</td></tr>\n",
       "\t<tr><th scope=row>25102</th><td>-0.18926429</td><td> Self-emp-inc    </td><td>-0.78219217</td><td> Some-college</td><td>-0.03135955</td><td> Divorced          </td><td> Sales            </td><td> Unmarried    </td><td> Asian-Pac-Islander</td><td> Male  </td><td>-0.1459182</td><td>-0.2166562</td><td> 1.1793989</td><td> United-States</td><td>0</td></tr>\n",
       "\t<tr><th scope=row>28867</th><td> 0.32391592</td><td> State-gov       </td><td>-1.52844529</td><td> Bachelors   </td><td> 1.13472134</td><td> Married-civ-spouse</td><td> Prof-specialty   </td><td> Husband      </td><td> White             </td><td> Male  </td><td>-0.1459182</td><td>-0.2166562</td><td>-0.2783945</td><td> United-States</td><td>1</td></tr>\n",
       "\t<tr><th scope=row>2986</th><td>-1.14231324</td><td> Private         </td><td>-0.26594384</td><td> Bachelors   </td><td> 1.13472134</td><td> Never-married     </td><td> Other-service    </td><td> Own-child    </td><td> White             </td><td> Female</td><td>-0.1459182</td><td>-0.2166562</td><td>-0.8453141</td><td> United-States</td><td>0</td></tr>\n",
       "\t<tr><th scope=row>1842</th><td>-0.33588720</td><td> Local-gov       </td><td>-1.20620932</td><td> Some-college</td><td>-0.03135955</td><td> Married-civ-spouse</td><td> Transport-moving </td><td> Husband      </td><td> White             </td><td> Male  </td><td>-0.1459182</td><td> 3.7018448</td><td>-0.0354289</td><td> United-States</td><td>0</td></tr>\n",
       "\t<tr><th scope=row>25718</th><td>-0.33588720</td><td> Self-emp-not-inc</td><td> 0.61132778</td><td> HS-grad     </td><td>-0.42005317</td><td> Married-civ-spouse</td><td> Farming-fishing  </td><td> Husband      </td><td> White             </td><td> Male  </td><td> 0.4644842</td><td>-0.2166562</td><td> 4.0139972</td><td> United-States</td><td>0</td></tr>\n",
       "\t<tr><th scope=row>3371</th><td>-0.04264137</td><td> Private         </td><td> 1.50602243</td><td> Prof-school </td><td> 1.91210860</td><td> Married-civ-spouse</td><td> Prof-specialty   </td><td> Husband      </td><td> White             </td><td> Male  </td><td>-0.1459182</td><td>-0.2166562</td><td> 1.5843415</td><td> United-States</td><td>0</td></tr>\n",
       "\t<tr><th scope=row>29925</th><td>-0.11595283</td><td> Private         </td><td>-0.71220637</td><td> HS-grad     </td><td>-0.42005317</td><td> Married-civ-spouse</td><td> Farming-fishing  </td><td> Husband      </td><td> White             </td><td> Male  </td><td>-0.1459182</td><td>-0.2166562</td><td>-0.0354289</td><td> United-States</td><td>0</td></tr>\n",
       "\t<tr><th scope=row>29940</th><td> 2.01007946</td><td> Self-emp-inc    </td><td>-0.82534709</td><td> 7th-8th     </td><td>-2.36352131</td><td> Married-civ-spouse</td><td> Exec-managerial  </td><td> Husband      </td><td> White             </td><td> Male  </td><td>-0.1459182</td><td>-0.2166562</td><td> 0.7744563</td><td> United-States</td><td>0</td></tr>\n",
       "\t<tr><th scope=row>29710</th><td>-0.26257575</td><td> Private         </td><td> 1.23663345</td><td> HS-grad     </td><td>-0.42005317</td><td> Married-civ-spouse</td><td> Craft-repair     </td><td> Husband      </td><td> White             </td><td> Male  </td><td>-0.1459182</td><td>-0.2166562</td><td>-0.6833371</td><td> United-States</td><td>0</td></tr>\n",
       "\t<tr><th scope=row>11638</th><td> 0.91040758</td><td> Private         </td><td>-1.19463186</td><td> HS-grad     </td><td>-0.42005317</td><td> Married-civ-spouse</td><td> Sales            </td><td> Husband      </td><td> Asian-Pac-Islander</td><td> Male  </td><td>-0.1459182</td><td>-0.2166562</td><td> 0.7744563</td><td> Cambodia     </td><td>0</td></tr>\n",
       "\t<tr><th scope=row>4761</th><td> 1.13034196</td><td> Private         </td><td> 0.09777012</td><td> Bachelors   </td><td> 1.13472134</td><td> Divorced          </td><td> Sales            </td><td> Not-in-family</td><td> Black             </td><td> Female</td><td>-0.1459182</td><td>-0.2166562</td><td> 1.5843415</td><td> United-States</td><td>0</td></tr>\n",
       "\t<tr><th scope=row>6746</th><td>-1.28893616</td><td> Private         </td><td>-0.07258520</td><td> Some-college</td><td>-0.03135955</td><td> Never-married     </td><td> Other-service    </td><td> Own-child    </td><td> White             </td><td> Male  </td><td>-0.1459182</td><td>-0.2166562</td><td>-2.0601420</td><td> United-States</td><td>0</td></tr>\n",
       "\t<tr><th scope=row>26203</th><td> 0.54385029</td><td> Private         </td><td> 0.58451584</td><td> Bachelors   </td><td> 1.13472134</td><td> Married-civ-spouse</td><td> Exec-managerial  </td><td> Husband      </td><td> White             </td><td> Male  </td><td>-0.1459182</td><td>-0.2166562</td><td> 1.5843415</td><td> United-States</td><td>1</td></tr>\n",
       "\t<tr><th scope=row>16128</th><td> 0.32391592</td><td> Private         </td><td> 0.16965076</td><td> HS-grad     </td><td>-0.42005317</td><td> Married-civ-spouse</td><td> Machine-op-inspct</td><td> Husband      </td><td> White             </td><td> Male  </td><td>-0.1459182</td><td>-0.2166562</td><td>-0.0354289</td><td> United-States</td><td>0</td></tr>\n",
       "\t<tr><th scope=row>2757</th><td> 0.32391592</td><td> Local-gov       </td><td>-0.40218262</td><td> Masters     </td><td> 1.52341497</td><td> Married-civ-spouse</td><td> Exec-managerial  </td><td> Husband      </td><td> White             </td><td> Male  </td><td>-0.1459182</td><td> 4.6895353</td><td> 1.5843415</td><td> United-States</td><td>1</td></tr>\n",
       "\t<tr><th scope=row>21491</th><td>-1.43555908</td><td> Private         </td><td>-0.40833137</td><td> Some-college</td><td>-0.03135955</td><td> Never-married     </td><td> Exec-managerial  </td><td> Own-child    </td><td> Black             </td><td> Male  </td><td>-0.1459182</td><td>-0.2166562</td><td>-0.8453141</td><td> United-States</td><td>0</td></tr>\n",
       "\t<tr><th scope=row>29787</th><td> 0.17729300</td><td> Private         </td><td>-0.19587277</td><td> Bachelors   </td><td> 1.13472134</td><td> Married-civ-spouse</td><td> Craft-repair     </td><td> Husband      </td><td> Asian-Pac-Islander</td><td> Male  </td><td>-0.1459182</td><td>-0.2166562</td><td>-0.0354289</td><td> United-States</td><td>1</td></tr>\n",
       "</tbody>\n",
       "</table>\n"
      ],
      "text/latex": [
       "A data.frame: 20 × 15\n",
       "\\begin{tabular}{r|lllllllllllllll}\n",
       "  & age & workclass & fnlwgt & education & education\\_num & marital\\_status & occupation & relationship & race & sex & capital\\_gain & capital\\_loss & hours\\_per\\_week & native\\_country & income\\\\\n",
       "  & <dbl{[},1{]}> & <chr> & <dbl{[},1{]}> & <chr> & <dbl{[},1{]}> & <chr> & <chr> & <chr> & <chr> & <chr> & <dbl{[},1{]}> & <dbl{[},1{]}> & <dbl{[},1{]}> & <chr> & <dbl>\\\\\n",
       "\\hline\n",
       "\t18847 & -0.40919866 &  Private          & -0.83039683 &  Some-college & -0.03135955 &  Never-married      &  Prof-specialty    &  Own-child     &  White              &  Male   & -0.1459182 & -0.2166562 & -0.0354289 &  United-States & 0\\\\\n",
       "\t18895 & -0.92237887 &  Private          & -0.55753083 &  HS-grad      & -0.42005317 &  Never-married      &  Adm-clerical      &  Own-child     &  Black              &  Female & -0.1459182 & -0.2166562 & -0.0354289 &  United-States & 0\\\\\n",
       "\t26803 &  0.10398154 &  Private          &  0.41072139 &  7th-8th      & -2.36352131 &  Married-civ-spouse &  Craft-repair      &  Husband       &  White              &  Male   & -0.1459182 & -0.2166562 & -0.0354289 &  El-Salvador   & 0\\\\\n",
       "\t25102 & -0.18926429 &  Self-emp-inc     & -0.78219217 &  Some-college & -0.03135955 &  Divorced           &  Sales             &  Unmarried     &  Asian-Pac-Islander &  Male   & -0.1459182 & -0.2166562 &  1.1793989 &  United-States & 0\\\\\n",
       "\t28867 &  0.32391592 &  State-gov        & -1.52844529 &  Bachelors    &  1.13472134 &  Married-civ-spouse &  Prof-specialty    &  Husband       &  White              &  Male   & -0.1459182 & -0.2166562 & -0.2783945 &  United-States & 1\\\\\n",
       "\t2986 & -1.14231324 &  Private          & -0.26594384 &  Bachelors    &  1.13472134 &  Never-married      &  Other-service     &  Own-child     &  White              &  Female & -0.1459182 & -0.2166562 & -0.8453141 &  United-States & 0\\\\\n",
       "\t1842 & -0.33588720 &  Local-gov        & -1.20620932 &  Some-college & -0.03135955 &  Married-civ-spouse &  Transport-moving  &  Husband       &  White              &  Male   & -0.1459182 &  3.7018448 & -0.0354289 &  United-States & 0\\\\\n",
       "\t25718 & -0.33588720 &  Self-emp-not-inc &  0.61132778 &  HS-grad      & -0.42005317 &  Married-civ-spouse &  Farming-fishing   &  Husband       &  White              &  Male   &  0.4644842 & -0.2166562 &  4.0139972 &  United-States & 0\\\\\n",
       "\t3371 & -0.04264137 &  Private          &  1.50602243 &  Prof-school  &  1.91210860 &  Married-civ-spouse &  Prof-specialty    &  Husband       &  White              &  Male   & -0.1459182 & -0.2166562 &  1.5843415 &  United-States & 0\\\\\n",
       "\t29925 & -0.11595283 &  Private          & -0.71220637 &  HS-grad      & -0.42005317 &  Married-civ-spouse &  Farming-fishing   &  Husband       &  White              &  Male   & -0.1459182 & -0.2166562 & -0.0354289 &  United-States & 0\\\\\n",
       "\t29940 &  2.01007946 &  Self-emp-inc     & -0.82534709 &  7th-8th      & -2.36352131 &  Married-civ-spouse &  Exec-managerial   &  Husband       &  White              &  Male   & -0.1459182 & -0.2166562 &  0.7744563 &  United-States & 0\\\\\n",
       "\t29710 & -0.26257575 &  Private          &  1.23663345 &  HS-grad      & -0.42005317 &  Married-civ-spouse &  Craft-repair      &  Husband       &  White              &  Male   & -0.1459182 & -0.2166562 & -0.6833371 &  United-States & 0\\\\\n",
       "\t11638 &  0.91040758 &  Private          & -1.19463186 &  HS-grad      & -0.42005317 &  Married-civ-spouse &  Sales             &  Husband       &  Asian-Pac-Islander &  Male   & -0.1459182 & -0.2166562 &  0.7744563 &  Cambodia      & 0\\\\\n",
       "\t4761 &  1.13034196 &  Private          &  0.09777012 &  Bachelors    &  1.13472134 &  Divorced           &  Sales             &  Not-in-family &  Black              &  Female & -0.1459182 & -0.2166562 &  1.5843415 &  United-States & 0\\\\\n",
       "\t6746 & -1.28893616 &  Private          & -0.07258520 &  Some-college & -0.03135955 &  Never-married      &  Other-service     &  Own-child     &  White              &  Male   & -0.1459182 & -0.2166562 & -2.0601420 &  United-States & 0\\\\\n",
       "\t26203 &  0.54385029 &  Private          &  0.58451584 &  Bachelors    &  1.13472134 &  Married-civ-spouse &  Exec-managerial   &  Husband       &  White              &  Male   & -0.1459182 & -0.2166562 &  1.5843415 &  United-States & 1\\\\\n",
       "\t16128 &  0.32391592 &  Private          &  0.16965076 &  HS-grad      & -0.42005317 &  Married-civ-spouse &  Machine-op-inspct &  Husband       &  White              &  Male   & -0.1459182 & -0.2166562 & -0.0354289 &  United-States & 0\\\\\n",
       "\t2757 &  0.32391592 &  Local-gov        & -0.40218262 &  Masters      &  1.52341497 &  Married-civ-spouse &  Exec-managerial   &  Husband       &  White              &  Male   & -0.1459182 &  4.6895353 &  1.5843415 &  United-States & 1\\\\\n",
       "\t21491 & -1.43555908 &  Private          & -0.40833137 &  Some-college & -0.03135955 &  Never-married      &  Exec-managerial   &  Own-child     &  Black              &  Male   & -0.1459182 & -0.2166562 & -0.8453141 &  United-States & 0\\\\\n",
       "\t29787 &  0.17729300 &  Private          & -0.19587277 &  Bachelors    &  1.13472134 &  Married-civ-spouse &  Craft-repair      &  Husband       &  Asian-Pac-Islander &  Male   & -0.1459182 & -0.2166562 & -0.0354289 &  United-States & 1\\\\\n",
       "\\end{tabular}\n"
      ],
      "text/markdown": [
       "\n",
       "A data.frame: 20 × 15\n",
       "\n",
       "| <!--/--> | age &lt;dbl[,1]&gt; | workclass &lt;chr&gt; | fnlwgt &lt;dbl[,1]&gt; | education &lt;chr&gt; | education_num &lt;dbl[,1]&gt; | marital_status &lt;chr&gt; | occupation &lt;chr&gt; | relationship &lt;chr&gt; | race &lt;chr&gt; | sex &lt;chr&gt; | capital_gain &lt;dbl[,1]&gt; | capital_loss &lt;dbl[,1]&gt; | hours_per_week &lt;dbl[,1]&gt; | native_country &lt;chr&gt; | income &lt;dbl&gt; |\n",
       "|---|---|---|---|---|---|---|---|---|---|---|---|---|---|---|---|\n",
       "| 18847 | -0.40919866 |  Private          | -0.83039683 |  Some-college | -0.03135955 |  Never-married      |  Prof-specialty    |  Own-child     |  White              |  Male   | -0.1459182 | -0.2166562 | -0.0354289 |  United-States | 0 |\n",
       "| 18895 | -0.92237887 |  Private          | -0.55753083 |  HS-grad      | -0.42005317 |  Never-married      |  Adm-clerical      |  Own-child     |  Black              |  Female | -0.1459182 | -0.2166562 | -0.0354289 |  United-States | 0 |\n",
       "| 26803 |  0.10398154 |  Private          |  0.41072139 |  7th-8th      | -2.36352131 |  Married-civ-spouse |  Craft-repair      |  Husband       |  White              |  Male   | -0.1459182 | -0.2166562 | -0.0354289 |  El-Salvador   | 0 |\n",
       "| 25102 | -0.18926429 |  Self-emp-inc     | -0.78219217 |  Some-college | -0.03135955 |  Divorced           |  Sales             |  Unmarried     |  Asian-Pac-Islander |  Male   | -0.1459182 | -0.2166562 |  1.1793989 |  United-States | 0 |\n",
       "| 28867 |  0.32391592 |  State-gov        | -1.52844529 |  Bachelors    |  1.13472134 |  Married-civ-spouse |  Prof-specialty    |  Husband       |  White              |  Male   | -0.1459182 | -0.2166562 | -0.2783945 |  United-States | 1 |\n",
       "| 2986 | -1.14231324 |  Private          | -0.26594384 |  Bachelors    |  1.13472134 |  Never-married      |  Other-service     |  Own-child     |  White              |  Female | -0.1459182 | -0.2166562 | -0.8453141 |  United-States | 0 |\n",
       "| 1842 | -0.33588720 |  Local-gov        | -1.20620932 |  Some-college | -0.03135955 |  Married-civ-spouse |  Transport-moving  |  Husband       |  White              |  Male   | -0.1459182 |  3.7018448 | -0.0354289 |  United-States | 0 |\n",
       "| 25718 | -0.33588720 |  Self-emp-not-inc |  0.61132778 |  HS-grad      | -0.42005317 |  Married-civ-spouse |  Farming-fishing   |  Husband       |  White              |  Male   |  0.4644842 | -0.2166562 |  4.0139972 |  United-States | 0 |\n",
       "| 3371 | -0.04264137 |  Private          |  1.50602243 |  Prof-school  |  1.91210860 |  Married-civ-spouse |  Prof-specialty    |  Husband       |  White              |  Male   | -0.1459182 | -0.2166562 |  1.5843415 |  United-States | 0 |\n",
       "| 29925 | -0.11595283 |  Private          | -0.71220637 |  HS-grad      | -0.42005317 |  Married-civ-spouse |  Farming-fishing   |  Husband       |  White              |  Male   | -0.1459182 | -0.2166562 | -0.0354289 |  United-States | 0 |\n",
       "| 29940 |  2.01007946 |  Self-emp-inc     | -0.82534709 |  7th-8th      | -2.36352131 |  Married-civ-spouse |  Exec-managerial   |  Husband       |  White              |  Male   | -0.1459182 | -0.2166562 |  0.7744563 |  United-States | 0 |\n",
       "| 29710 | -0.26257575 |  Private          |  1.23663345 |  HS-grad      | -0.42005317 |  Married-civ-spouse |  Craft-repair      |  Husband       |  White              |  Male   | -0.1459182 | -0.2166562 | -0.6833371 |  United-States | 0 |\n",
       "| 11638 |  0.91040758 |  Private          | -1.19463186 |  HS-grad      | -0.42005317 |  Married-civ-spouse |  Sales             |  Husband       |  Asian-Pac-Islander |  Male   | -0.1459182 | -0.2166562 |  0.7744563 |  Cambodia      | 0 |\n",
       "| 4761 |  1.13034196 |  Private          |  0.09777012 |  Bachelors    |  1.13472134 |  Divorced           |  Sales             |  Not-in-family |  Black              |  Female | -0.1459182 | -0.2166562 |  1.5843415 |  United-States | 0 |\n",
       "| 6746 | -1.28893616 |  Private          | -0.07258520 |  Some-college | -0.03135955 |  Never-married      |  Other-service     |  Own-child     |  White              |  Male   | -0.1459182 | -0.2166562 | -2.0601420 |  United-States | 0 |\n",
       "| 26203 |  0.54385029 |  Private          |  0.58451584 |  Bachelors    |  1.13472134 |  Married-civ-spouse |  Exec-managerial   |  Husband       |  White              |  Male   | -0.1459182 | -0.2166562 |  1.5843415 |  United-States | 1 |\n",
       "| 16128 |  0.32391592 |  Private          |  0.16965076 |  HS-grad      | -0.42005317 |  Married-civ-spouse |  Machine-op-inspct |  Husband       |  White              |  Male   | -0.1459182 | -0.2166562 | -0.0354289 |  United-States | 0 |\n",
       "| 2757 |  0.32391592 |  Local-gov        | -0.40218262 |  Masters      |  1.52341497 |  Married-civ-spouse |  Exec-managerial   |  Husband       |  White              |  Male   | -0.1459182 |  4.6895353 |  1.5843415 |  United-States | 1 |\n",
       "| 21491 | -1.43555908 |  Private          | -0.40833137 |  Some-college | -0.03135955 |  Never-married      |  Exec-managerial   |  Own-child     |  Black              |  Male   | -0.1459182 | -0.2166562 | -0.8453141 |  United-States | 0 |\n",
       "| 29787 |  0.17729300 |  Private          | -0.19587277 |  Bachelors    |  1.13472134 |  Married-civ-spouse |  Craft-repair      |  Husband       |  Asian-Pac-Islander |  Male   | -0.1459182 | -0.2166562 | -0.0354289 |  United-States | 1 |\n",
       "\n"
      ],
      "text/plain": [
       "      age         workclass         fnlwgt      education     education_num\n",
       "18847 -0.40919866  Private          -0.83039683  Some-college -0.03135955  \n",
       "18895 -0.92237887  Private          -0.55753083  HS-grad      -0.42005317  \n",
       "26803  0.10398154  Private           0.41072139  7th-8th      -2.36352131  \n",
       "25102 -0.18926429  Self-emp-inc     -0.78219217  Some-college -0.03135955  \n",
       "28867  0.32391592  State-gov        -1.52844529  Bachelors     1.13472134  \n",
       "2986  -1.14231324  Private          -0.26594384  Bachelors     1.13472134  \n",
       "1842  -0.33588720  Local-gov        -1.20620932  Some-college -0.03135955  \n",
       "25718 -0.33588720  Self-emp-not-inc  0.61132778  HS-grad      -0.42005317  \n",
       "3371  -0.04264137  Private           1.50602243  Prof-school   1.91210860  \n",
       "29925 -0.11595283  Private          -0.71220637  HS-grad      -0.42005317  \n",
       "29940  2.01007946  Self-emp-inc     -0.82534709  7th-8th      -2.36352131  \n",
       "29710 -0.26257575  Private           1.23663345  HS-grad      -0.42005317  \n",
       "11638  0.91040758  Private          -1.19463186  HS-grad      -0.42005317  \n",
       "4761   1.13034196  Private           0.09777012  Bachelors     1.13472134  \n",
       "6746  -1.28893616  Private          -0.07258520  Some-college -0.03135955  \n",
       "26203  0.54385029  Private           0.58451584  Bachelors     1.13472134  \n",
       "16128  0.32391592  Private           0.16965076  HS-grad      -0.42005317  \n",
       "2757   0.32391592  Local-gov        -0.40218262  Masters       1.52341497  \n",
       "21491 -1.43555908  Private          -0.40833137  Some-college -0.03135955  \n",
       "29787  0.17729300  Private          -0.19587277  Bachelors     1.13472134  \n",
       "      marital_status      occupation         relationship   race               \n",
       "18847  Never-married       Prof-specialty     Own-child      White             \n",
       "18895  Never-married       Adm-clerical       Own-child      Black             \n",
       "26803  Married-civ-spouse  Craft-repair       Husband        White             \n",
       "25102  Divorced            Sales              Unmarried      Asian-Pac-Islander\n",
       "28867  Married-civ-spouse  Prof-specialty     Husband        White             \n",
       "2986   Never-married       Other-service      Own-child      White             \n",
       "1842   Married-civ-spouse  Transport-moving   Husband        White             \n",
       "25718  Married-civ-spouse  Farming-fishing    Husband        White             \n",
       "3371   Married-civ-spouse  Prof-specialty     Husband        White             \n",
       "29925  Married-civ-spouse  Farming-fishing    Husband        White             \n",
       "29940  Married-civ-spouse  Exec-managerial    Husband        White             \n",
       "29710  Married-civ-spouse  Craft-repair       Husband        White             \n",
       "11638  Married-civ-spouse  Sales              Husband        Asian-Pac-Islander\n",
       "4761   Divorced            Sales              Not-in-family  Black             \n",
       "6746   Never-married       Other-service      Own-child      White             \n",
       "26203  Married-civ-spouse  Exec-managerial    Husband        White             \n",
       "16128  Married-civ-spouse  Machine-op-inspct  Husband        White             \n",
       "2757   Married-civ-spouse  Exec-managerial    Husband        White             \n",
       "21491  Never-married       Exec-managerial    Own-child      Black             \n",
       "29787  Married-civ-spouse  Craft-repair       Husband        Asian-Pac-Islander\n",
       "      sex     capital_gain capital_loss hours_per_week native_country income\n",
       "18847  Male   -0.1459182   -0.2166562   -0.0354289      United-States 0     \n",
       "18895  Female -0.1459182   -0.2166562   -0.0354289      United-States 0     \n",
       "26803  Male   -0.1459182   -0.2166562   -0.0354289      El-Salvador   0     \n",
       "25102  Male   -0.1459182   -0.2166562    1.1793989      United-States 0     \n",
       "28867  Male   -0.1459182   -0.2166562   -0.2783945      United-States 1     \n",
       "2986   Female -0.1459182   -0.2166562   -0.8453141      United-States 0     \n",
       "1842   Male   -0.1459182    3.7018448   -0.0354289      United-States 0     \n",
       "25718  Male    0.4644842   -0.2166562    4.0139972      United-States 0     \n",
       "3371   Male   -0.1459182   -0.2166562    1.5843415      United-States 0     \n",
       "29925  Male   -0.1459182   -0.2166562   -0.0354289      United-States 0     \n",
       "29940  Male   -0.1459182   -0.2166562    0.7744563      United-States 0     \n",
       "29710  Male   -0.1459182   -0.2166562   -0.6833371      United-States 0     \n",
       "11638  Male   -0.1459182   -0.2166562    0.7744563      Cambodia      0     \n",
       "4761   Female -0.1459182   -0.2166562    1.5843415      United-States 0     \n",
       "6746   Male   -0.1459182   -0.2166562   -2.0601420      United-States 0     \n",
       "26203  Male   -0.1459182   -0.2166562    1.5843415      United-States 1     \n",
       "16128  Male   -0.1459182   -0.2166562   -0.0354289      United-States 0     \n",
       "2757   Male   -0.1459182    4.6895353    1.5843415      United-States 1     \n",
       "21491  Male   -0.1459182   -0.2166562   -0.8453141      United-States 0     \n",
       "29787  Male   -0.1459182   -0.2166562   -0.0354289      United-States 1     "
      ]
     },
     "metadata": {},
     "output_type": "display_data"
    }
   ],
   "source": [
    "head(train_set,20)"
   ]
  },
  {
   "cell_type": "code",
   "execution_count": 21,
   "id": "e2f07950-7611-40ab-8082-15050bd2ea58",
   "metadata": {},
   "outputs": [],
   "source": [
    "train_set$income <- as.factor(train_set$income)\n",
    "test_set$income <- as.factor(test_set$income)\n"
   ]
  },
  {
   "cell_type": "markdown",
   "id": "b381c4af-0145-4261-b6fe-c883b6a8ce00",
   "metadata": {},
   "source": [
    "# MODEL_TRAINING"
   ]
  },
  {
   "cell_type": "markdown",
   "id": "c0656b34-9602-4ac0-9804-344d2f6354ed",
   "metadata": {},
   "source": [
    "- In this analysis, we've chosen three distinct models: Logistic Regression, K-Nearest Neighbors (KNN), and Decision Trees, each offering unique advantages for binary classification tasks. Logistic Regression is selected for its interpretability and effectiveness in estimating probabilities, making it an excellent baseline for binary outcomes. It shines in scenarios where relationships between the independent variables and the log odds of the outcomes are linear. KNN is included for its simplicity and non-parametric nature, allowing it to adapt flexibly to the data without assuming a specific functional form. It's particularly useful for capturing complex relationships through its proximity-based decision-making process. Decision Trees are chosen for their intuitive understanding and ability to capture non-linear relationships between features and the target variable, offering clear visualizations of decision paths.\n",
    "- Each model is fitted using the respective best practices for parameter selection and evaluation. For Logistic Regression, we utilize backward selection to identify the most significant predictors, reducing model complexity and focusing on the most impactful features. KNN's performance heavily relies on the choice of 'k', the number of neighbors considered for making predictions; we use cross-validation to find the optimal 'k' value that balances bias and variance. For Decision Trees, we tune the complexity parameter to prevent overfitting, ensuring the model captures essential patterns without being overly specific to the training data.\n"
   ]
  },
  {
   "cell_type": "code",
   "execution_count": null,
   "id": "1f67429f-4be4-4683-b348-cee4b4fd2452",
   "metadata": {},
   "outputs": [],
   "source": []
  },
  {
   "cell_type": "markdown",
   "id": "30323958-86b9-4c1c-8f71-0ec28511954d",
   "metadata": {},
   "source": [
    "### Logistic regression"
   ]
  },
  {
   "cell_type": "markdown",
   "id": "0e6e3f61-2733-4ab9-8990-997da3c4a1f3",
   "metadata": {},
   "source": []
  },
  {
   "cell_type": "code",
   "execution_count": 22,
   "id": "ce3a906e-59e1-436a-897c-41789cb65d7c",
   "metadata": {},
   "outputs": [
    {
     "name": "stderr",
     "output_type": "stream",
     "text": [
      "Warning message:\n",
      "“glm.fit: fitted probabilities numerically 0 or 1 occurred”\n"
     ]
    }
   ],
   "source": [
    "# fit model using glm\n",
    "log_model <- glm(income ~ ., data = train_set, family = binomial)"
   ]
  },
  {
   "cell_type": "markdown",
   "id": "17938d93-26f5-4692-89c3-6191d4aded5d",
   "metadata": {},
   "source": [
    "### feature selection"
   ]
  },
  {
   "cell_type": "markdown",
   "id": "236d78d8-ec46-4ed3-abfc-0631e3ffe8e7",
   "metadata": {},
   "source": [
    "\n",
    "In the pursuit of a finely-tuned logistic regression model, we've employed backward selection while being guided by a suite of statistical measures. These measures help us determine the appropriate complexity of our model, ensuring we capture the necessary details of the data without succumbing to overfitting."
   ]
  },
  {
   "cell_type": "code",
   "execution_count": 25,
   "id": "062034ab-81b0-471c-bd47-227d163ee21e",
   "metadata": {},
   "outputs": [
    {
     "name": "stderr",
     "output_type": "stream",
     "text": [
      "Warning message in leaps.setup(x, y, wt = wt, nbest = nbest, nvmax = nvmax, force.in = force.in, :\n",
      "“1  linear dependencies found”\n"
     ]
    },
    {
     "name": "stdout",
     "output_type": "stream",
     "text": [
      "Reordering variables and trying again:\n"
     ]
    },
    {
     "data": {
      "text/plain": [
       "Subset selection object\n",
       "Call: regsubsets.formula(income ~ ., data = train_set, method = \"backward\")\n",
       "97 Variables  (and intercept)\n",
       "                                          Forced in Forced out\n",
       "age                                           FALSE      FALSE\n",
       "workclass Local-gov                           FALSE      FALSE\n",
       "workclass Never-worked                        FALSE      FALSE\n",
       "workclass Private                             FALSE      FALSE\n",
       "workclass Self-emp-inc                        FALSE      FALSE\n",
       "workclass Self-emp-not-inc                    FALSE      FALSE\n",
       "workclass State-gov                           FALSE      FALSE\n",
       "workclass Without-pay                         FALSE      FALSE\n",
       "fnlwgt                                        FALSE      FALSE\n",
       "education 11th                                FALSE      FALSE\n",
       "education 12th                                FALSE      FALSE\n",
       "education 1st-4th                             FALSE      FALSE\n",
       "education 5th-6th                             FALSE      FALSE\n",
       "education 7th-8th                             FALSE      FALSE\n",
       "education 9th                                 FALSE      FALSE\n",
       "education Assoc-acdm                          FALSE      FALSE\n",
       "education Assoc-voc                           FALSE      FALSE\n",
       "education Bachelors                           FALSE      FALSE\n",
       "education Doctorate                           FALSE      FALSE\n",
       "education HS-grad                             FALSE      FALSE\n",
       "education Masters                             FALSE      FALSE\n",
       "education Preschool                           FALSE      FALSE\n",
       "education Prof-school                         FALSE      FALSE\n",
       "education Some-college                        FALSE      FALSE\n",
       "marital_status Married-AF-spouse              FALSE      FALSE\n",
       "marital_status Married-civ-spouse             FALSE      FALSE\n",
       "marital_status Married-spouse-absent          FALSE      FALSE\n",
       "marital_status Never-married                  FALSE      FALSE\n",
       "marital_status Separated                      FALSE      FALSE\n",
       "marital_status Widowed                        FALSE      FALSE\n",
       "occupation Armed-Forces                       FALSE      FALSE\n",
       "occupation Craft-repair                       FALSE      FALSE\n",
       "occupation Exec-managerial                    FALSE      FALSE\n",
       "occupation Farming-fishing                    FALSE      FALSE\n",
       "occupation Handlers-cleaners                  FALSE      FALSE\n",
       "occupation Machine-op-inspct                  FALSE      FALSE\n",
       "occupation Other-service                      FALSE      FALSE\n",
       "occupation Priv-house-serv                    FALSE      FALSE\n",
       "occupation Prof-specialty                     FALSE      FALSE\n",
       "occupation Protective-serv                    FALSE      FALSE\n",
       "occupation Sales                              FALSE      FALSE\n",
       "occupation Tech-support                       FALSE      FALSE\n",
       "occupation Transport-moving                   FALSE      FALSE\n",
       "relationship Not-in-family                    FALSE      FALSE\n",
       "relationship Other-relative                   FALSE      FALSE\n",
       "relationship Own-child                        FALSE      FALSE\n",
       "relationship Unmarried                        FALSE      FALSE\n",
       "relationship Wife                             FALSE      FALSE\n",
       "race Asian-Pac-Islander                       FALSE      FALSE\n",
       "race Black                                    FALSE      FALSE\n",
       "race Other                                    FALSE      FALSE\n",
       "race White                                    FALSE      FALSE\n",
       "sex Male                                      FALSE      FALSE\n",
       "capital_gain                                  FALSE      FALSE\n",
       "capital_loss                                  FALSE      FALSE\n",
       "hours_per_week                                FALSE      FALSE\n",
       "native_country Canada                         FALSE      FALSE\n",
       "native_country China                          FALSE      FALSE\n",
       "native_country Columbia                       FALSE      FALSE\n",
       "native_country Cuba                           FALSE      FALSE\n",
       "native_country Dominican-Republic             FALSE      FALSE\n",
       "native_country Ecuador                        FALSE      FALSE\n",
       "native_country El-Salvador                    FALSE      FALSE\n",
       "native_country England                        FALSE      FALSE\n",
       "native_country France                         FALSE      FALSE\n",
       "native_country Germany                        FALSE      FALSE\n",
       "native_country Greece                         FALSE      FALSE\n",
       "native_country Guatemala                      FALSE      FALSE\n",
       "native_country Haiti                          FALSE      FALSE\n",
       "native_country Holand-Netherlands             FALSE      FALSE\n",
       "native_country Honduras                       FALSE      FALSE\n",
       "native_country Hong                           FALSE      FALSE\n",
       "native_country Hungary                        FALSE      FALSE\n",
       "native_country India                          FALSE      FALSE\n",
       "native_country Iran                           FALSE      FALSE\n",
       "native_country Ireland                        FALSE      FALSE\n",
       "native_country Italy                          FALSE      FALSE\n",
       "native_country Jamaica                        FALSE      FALSE\n",
       "native_country Japan                          FALSE      FALSE\n",
       "native_country Laos                           FALSE      FALSE\n",
       "native_country Mexico                         FALSE      FALSE\n",
       "native_country Nicaragua                      FALSE      FALSE\n",
       "native_country Outlying-US(Guam-USVI-etc)     FALSE      FALSE\n",
       "native_country Peru                           FALSE      FALSE\n",
       "native_country Philippines                    FALSE      FALSE\n",
       "native_country Poland                         FALSE      FALSE\n",
       "native_country Portugal                       FALSE      FALSE\n",
       "native_country Puerto-Rico                    FALSE      FALSE\n",
       "native_country Scotland                       FALSE      FALSE\n",
       "native_country South                          FALSE      FALSE\n",
       "native_country Taiwan                         FALSE      FALSE\n",
       "native_country Thailand                       FALSE      FALSE\n",
       "native_country Trinadad&Tobago                FALSE      FALSE\n",
       "native_country United-States                  FALSE      FALSE\n",
       "native_country Vietnam                        FALSE      FALSE\n",
       "native_country Yugoslavia                     FALSE      FALSE\n",
       "education_num                                 FALSE      FALSE\n",
       "1 subsets of each size up to 9\n",
       "Selection Algorithm: backward\n",
       "         age workclass Local-gov workclass Never-worked workclass Private\n",
       "1  ( 1 ) \" \" \" \"                 \" \"                    \" \"              \n",
       "2  ( 1 ) \" \" \" \"                 \" \"                    \" \"              \n",
       "3  ( 1 ) \" \" \" \"                 \" \"                    \" \"              \n",
       "4  ( 1 ) \" \" \" \"                 \" \"                    \" \"              \n",
       "5  ( 1 ) \" \" \" \"                 \" \"                    \" \"              \n",
       "6  ( 1 ) \" \" \" \"                 \" \"                    \" \"              \n",
       "7  ( 1 ) \" \" \" \"                 \" \"                    \" \"              \n",
       "8  ( 1 ) \" \" \" \"                 \" \"                    \" \"              \n",
       "9  ( 1 ) \" \" \" \"                 \" \"                    \" \"              \n",
       "         workclass Self-emp-inc workclass Self-emp-not-inc workclass State-gov\n",
       "1  ( 1 ) \" \"                    \" \"                        \" \"                \n",
       "2  ( 1 ) \" \"                    \" \"                        \" \"                \n",
       "3  ( 1 ) \" \"                    \" \"                        \" \"                \n",
       "4  ( 1 ) \" \"                    \" \"                        \" \"                \n",
       "5  ( 1 ) \" \"                    \" \"                        \" \"                \n",
       "6  ( 1 ) \" \"                    \" \"                        \" \"                \n",
       "7  ( 1 ) \" \"                    \" \"                        \" \"                \n",
       "8  ( 1 ) \" \"                    \" \"                        \" \"                \n",
       "9  ( 1 ) \" \"                    \" \"                        \" \"                \n",
       "         workclass Without-pay fnlwgt education 11th education 12th\n",
       "1  ( 1 ) \" \"                   \" \"    \" \"            \" \"           \n",
       "2  ( 1 ) \" \"                   \" \"    \" \"            \" \"           \n",
       "3  ( 1 ) \" \"                   \" \"    \" \"            \" \"           \n",
       "4  ( 1 ) \" \"                   \" \"    \" \"            \" \"           \n",
       "5  ( 1 ) \" \"                   \" \"    \" \"            \" \"           \n",
       "6  ( 1 ) \" \"                   \" \"    \" \"            \" \"           \n",
       "7  ( 1 ) \" \"                   \" \"    \" \"            \" \"           \n",
       "8  ( 1 ) \" \"                   \" \"    \" \"            \" \"           \n",
       "9  ( 1 ) \" \"                   \" \"    \" \"            \" \"           \n",
       "         education 1st-4th education 5th-6th education 7th-8th education 9th\n",
       "1  ( 1 ) \" \"               \" \"               \" \"               \" \"          \n",
       "2  ( 1 ) \" \"               \" \"               \" \"               \" \"          \n",
       "3  ( 1 ) \" \"               \" \"               \" \"               \" \"          \n",
       "4  ( 1 ) \" \"               \" \"               \" \"               \" \"          \n",
       "5  ( 1 ) \" \"               \" \"               \" \"               \" \"          \n",
       "6  ( 1 ) \" \"               \" \"               \" \"               \" \"          \n",
       "7  ( 1 ) \" \"               \" \"               \" \"               \" \"          \n",
       "8  ( 1 ) \" \"               \" \"               \" \"               \" \"          \n",
       "9  ( 1 ) \" \"               \" \"               \" \"               \" \"          \n",
       "         education Assoc-acdm education Assoc-voc education Bachelors\n",
       "1  ( 1 ) \" \"                  \" \"                 \" \"                \n",
       "2  ( 1 ) \" \"                  \" \"                 \" \"                \n",
       "3  ( 1 ) \" \"                  \" \"                 \" \"                \n",
       "4  ( 1 ) \" \"                  \" \"                 \" \"                \n",
       "5  ( 1 ) \" \"                  \" \"                 \"*\"                \n",
       "6  ( 1 ) \" \"                  \" \"                 \"*\"                \n",
       "7  ( 1 ) \" \"                  \" \"                 \"*\"                \n",
       "8  ( 1 ) \" \"                  \" \"                 \"*\"                \n",
       "9  ( 1 ) \" \"                  \" \"                 \"*\"                \n",
       "         education Doctorate education HS-grad education Masters\n",
       "1  ( 1 ) \" \"                 \" \"               \" \"              \n",
       "2  ( 1 ) \" \"                 \" \"               \" \"              \n",
       "3  ( 1 ) \" \"                 \" \"               \" \"              \n",
       "4  ( 1 ) \" \"                 \" \"               \" \"              \n",
       "5  ( 1 ) \" \"                 \" \"               \" \"              \n",
       "6  ( 1 ) \" \"                 \" \"               \"*\"              \n",
       "7  ( 1 ) \" \"                 \" \"               \"*\"              \n",
       "8  ( 1 ) \" \"                 \" \"               \"*\"              \n",
       "9  ( 1 ) \" \"                 \" \"               \"*\"              \n",
       "         education Preschool education Prof-school education Some-college\n",
       "1  ( 1 ) \" \"                 \" \"                   \" \"                   \n",
       "2  ( 1 ) \" \"                 \" \"                   \" \"                   \n",
       "3  ( 1 ) \" \"                 \" \"                   \" \"                   \n",
       "4  ( 1 ) \" \"                 \" \"                   \" \"                   \n",
       "5  ( 1 ) \" \"                 \" \"                   \" \"                   \n",
       "6  ( 1 ) \" \"                 \" \"                   \" \"                   \n",
       "7  ( 1 ) \" \"                 \" \"                   \" \"                   \n",
       "8  ( 1 ) \" \"                 \" \"                   \" \"                   \n",
       "9  ( 1 ) \" \"                 \"*\"                   \" \"                   \n",
       "         education_num marital_status Married-AF-spouse\n",
       "1  ( 1 ) \" \"           \" \"                             \n",
       "2  ( 1 ) \" \"           \" \"                             \n",
       "3  ( 1 ) \" \"           \" \"                             \n",
       "4  ( 1 ) \" \"           \" \"                             \n",
       "5  ( 1 ) \" \"           \" \"                             \n",
       "6  ( 1 ) \" \"           \" \"                             \n",
       "7  ( 1 ) \" \"           \" \"                             \n",
       "8  ( 1 ) \" \"           \" \"                             \n",
       "9  ( 1 ) \" \"           \" \"                             \n",
       "         marital_status Married-civ-spouse marital_status Married-spouse-absent\n",
       "1  ( 1 ) \" \"                               \" \"                                 \n",
       "2  ( 1 ) \" \"                               \" \"                                 \n",
       "3  ( 1 ) \" \"                               \" \"                                 \n",
       "4  ( 1 ) \" \"                               \" \"                                 \n",
       "5  ( 1 ) \" \"                               \" \"                                 \n",
       "6  ( 1 ) \" \"                               \" \"                                 \n",
       "7  ( 1 ) \" \"                               \" \"                                 \n",
       "8  ( 1 ) \" \"                               \" \"                                 \n",
       "9  ( 1 ) \" \"                               \" \"                                 \n",
       "         marital_status Never-married marital_status Separated\n",
       "1  ( 1 ) \" \"                          \" \"                     \n",
       "2  ( 1 ) \" \"                          \" \"                     \n",
       "3  ( 1 ) \" \"                          \" \"                     \n",
       "4  ( 1 ) \" \"                          \" \"                     \n",
       "5  ( 1 ) \" \"                          \" \"                     \n",
       "6  ( 1 ) \" \"                          \" \"                     \n",
       "7  ( 1 ) \" \"                          \" \"                     \n",
       "8  ( 1 ) \" \"                          \" \"                     \n",
       "9  ( 1 ) \" \"                          \" \"                     \n",
       "         marital_status Widowed occupation Armed-Forces occupation Craft-repair\n",
       "1  ( 1 ) \" \"                    \" \"                     \" \"                    \n",
       "2  ( 1 ) \" \"                    \" \"                     \" \"                    \n",
       "3  ( 1 ) \" \"                    \" \"                     \" \"                    \n",
       "4  ( 1 ) \" \"                    \" \"                     \" \"                    \n",
       "5  ( 1 ) \" \"                    \" \"                     \" \"                    \n",
       "6  ( 1 ) \" \"                    \" \"                     \" \"                    \n",
       "7  ( 1 ) \" \"                    \" \"                     \" \"                    \n",
       "8  ( 1 ) \" \"                    \" \"                     \" \"                    \n",
       "9  ( 1 ) \" \"                    \" \"                     \" \"                    \n",
       "         occupation Exec-managerial occupation Farming-fishing\n",
       "1  ( 1 ) \" \"                        \" \"                       \n",
       "2  ( 1 ) \" \"                        \" \"                       \n",
       "3  ( 1 ) \" \"                        \" \"                       \n",
       "4  ( 1 ) \" \"                        \" \"                       \n",
       "5  ( 1 ) \" \"                        \" \"                       \n",
       "6  ( 1 ) \" \"                        \" \"                       \n",
       "7  ( 1 ) \" \"                        \" \"                       \n",
       "8  ( 1 ) \"*\"                        \" \"                       \n",
       "9  ( 1 ) \"*\"                        \" \"                       \n",
       "         occupation Handlers-cleaners occupation Machine-op-inspct\n",
       "1  ( 1 ) \" \"                          \" \"                         \n",
       "2  ( 1 ) \" \"                          \" \"                         \n",
       "3  ( 1 ) \" \"                          \" \"                         \n",
       "4  ( 1 ) \" \"                          \" \"                         \n",
       "5  ( 1 ) \" \"                          \" \"                         \n",
       "6  ( 1 ) \" \"                          \" \"                         \n",
       "7  ( 1 ) \" \"                          \" \"                         \n",
       "8  ( 1 ) \" \"                          \" \"                         \n",
       "9  ( 1 ) \" \"                          \" \"                         \n",
       "         occupation Other-service occupation Priv-house-serv\n",
       "1  ( 1 ) \" \"                      \" \"                       \n",
       "2  ( 1 ) \" \"                      \" \"                       \n",
       "3  ( 1 ) \" \"                      \" \"                       \n",
       "4  ( 1 ) \" \"                      \" \"                       \n",
       "5  ( 1 ) \" \"                      \" \"                       \n",
       "6  ( 1 ) \" \"                      \" \"                       \n",
       "7  ( 1 ) \" \"                      \" \"                       \n",
       "8  ( 1 ) \" \"                      \" \"                       \n",
       "9  ( 1 ) \" \"                      \" \"                       \n",
       "         occupation Prof-specialty occupation Protective-serv occupation Sales\n",
       "1  ( 1 ) \" \"                       \" \"                        \" \"             \n",
       "2  ( 1 ) \" \"                       \" \"                        \" \"             \n",
       "3  ( 1 ) \" \"                       \" \"                        \" \"             \n",
       "4  ( 1 ) \" \"                       \" \"                        \" \"             \n",
       "5  ( 1 ) \" \"                       \" \"                        \" \"             \n",
       "6  ( 1 ) \" \"                       \" \"                        \" \"             \n",
       "7  ( 1 ) \" \"                       \" \"                        \" \"             \n",
       "8  ( 1 ) \" \"                       \" \"                        \" \"             \n",
       "9  ( 1 ) \" \"                       \" \"                        \" \"             \n",
       "         occupation Tech-support occupation Transport-moving\n",
       "1  ( 1 ) \" \"                     \" \"                        \n",
       "2  ( 1 ) \" \"                     \" \"                        \n",
       "3  ( 1 ) \" \"                     \" \"                        \n",
       "4  ( 1 ) \" \"                     \" \"                        \n",
       "5  ( 1 ) \" \"                     \" \"                        \n",
       "6  ( 1 ) \" \"                     \" \"                        \n",
       "7  ( 1 ) \" \"                     \" \"                        \n",
       "8  ( 1 ) \" \"                     \" \"                        \n",
       "9  ( 1 ) \" \"                     \" \"                        \n",
       "         relationship Not-in-family relationship Other-relative\n",
       "1  ( 1 ) \" \"                        \" \"                        \n",
       "2  ( 1 ) \"*\"                        \" \"                        \n",
       "3  ( 1 ) \"*\"                        \" \"                        \n",
       "4  ( 1 ) \"*\"                        \" \"                        \n",
       "5  ( 1 ) \"*\"                        \" \"                        \n",
       "6  ( 1 ) \"*\"                        \" \"                        \n",
       "7  ( 1 ) \"*\"                        \"*\"                        \n",
       "8  ( 1 ) \"*\"                        \"*\"                        \n",
       "9  ( 1 ) \"*\"                        \"*\"                        \n",
       "         relationship Own-child relationship Unmarried relationship Wife\n",
       "1  ( 1 ) \"*\"                    \" \"                    \" \"              \n",
       "2  ( 1 ) \"*\"                    \" \"                    \" \"              \n",
       "3  ( 1 ) \"*\"                    \"*\"                    \" \"              \n",
       "4  ( 1 ) \"*\"                    \"*\"                    \" \"              \n",
       "5  ( 1 ) \"*\"                    \"*\"                    \" \"              \n",
       "6  ( 1 ) \"*\"                    \"*\"                    \" \"              \n",
       "7  ( 1 ) \"*\"                    \"*\"                    \" \"              \n",
       "8  ( 1 ) \"*\"                    \"*\"                    \" \"              \n",
       "9  ( 1 ) \"*\"                    \"*\"                    \" \"              \n",
       "         race Asian-Pac-Islander race Black race Other race White sex Male\n",
       "1  ( 1 ) \" \"                     \" \"        \" \"        \" \"        \" \"     \n",
       "2  ( 1 ) \" \"                     \" \"        \" \"        \" \"        \" \"     \n",
       "3  ( 1 ) \" \"                     \" \"        \" \"        \" \"        \" \"     \n",
       "4  ( 1 ) \" \"                     \" \"        \" \"        \" \"        \" \"     \n",
       "5  ( 1 ) \" \"                     \" \"        \" \"        \" \"        \" \"     \n",
       "6  ( 1 ) \" \"                     \" \"        \" \"        \" \"        \" \"     \n",
       "7  ( 1 ) \" \"                     \" \"        \" \"        \" \"        \" \"     \n",
       "8  ( 1 ) \" \"                     \" \"        \" \"        \" \"        \" \"     \n",
       "9  ( 1 ) \" \"                     \" \"        \" \"        \" \"        \" \"     \n",
       "         capital_gain capital_loss hours_per_week native_country Canada\n",
       "1  ( 1 ) \" \"          \" \"          \" \"            \" \"                  \n",
       "2  ( 1 ) \" \"          \" \"          \" \"            \" \"                  \n",
       "3  ( 1 ) \" \"          \" \"          \" \"            \" \"                  \n",
       "4  ( 1 ) \"*\"          \" \"          \" \"            \" \"                  \n",
       "5  ( 1 ) \"*\"          \" \"          \" \"            \" \"                  \n",
       "6  ( 1 ) \"*\"          \" \"          \" \"            \" \"                  \n",
       "7  ( 1 ) \"*\"          \" \"          \" \"            \" \"                  \n",
       "8  ( 1 ) \"*\"          \" \"          \" \"            \" \"                  \n",
       "9  ( 1 ) \"*\"          \" \"          \" \"            \" \"                  \n",
       "         native_country China native_country Columbia native_country Cuba\n",
       "1  ( 1 ) \" \"                  \" \"                     \" \"                \n",
       "2  ( 1 ) \" \"                  \" \"                     \" \"                \n",
       "3  ( 1 ) \" \"                  \" \"                     \" \"                \n",
       "4  ( 1 ) \" \"                  \" \"                     \" \"                \n",
       "5  ( 1 ) \" \"                  \" \"                     \" \"                \n",
       "6  ( 1 ) \" \"                  \" \"                     \" \"                \n",
       "7  ( 1 ) \" \"                  \" \"                     \" \"                \n",
       "8  ( 1 ) \" \"                  \" \"                     \" \"                \n",
       "9  ( 1 ) \" \"                  \" \"                     \" \"                \n",
       "         native_country Dominican-Republic native_country Ecuador\n",
       "1  ( 1 ) \" \"                               \" \"                   \n",
       "2  ( 1 ) \" \"                               \" \"                   \n",
       "3  ( 1 ) \" \"                               \" \"                   \n",
       "4  ( 1 ) \" \"                               \" \"                   \n",
       "5  ( 1 ) \" \"                               \" \"                   \n",
       "6  ( 1 ) \" \"                               \" \"                   \n",
       "7  ( 1 ) \" \"                               \" \"                   \n",
       "8  ( 1 ) \" \"                               \" \"                   \n",
       "9  ( 1 ) \" \"                               \" \"                   \n",
       "         native_country El-Salvador native_country England\n",
       "1  ( 1 ) \" \"                        \" \"                   \n",
       "2  ( 1 ) \" \"                        \" \"                   \n",
       "3  ( 1 ) \" \"                        \" \"                   \n",
       "4  ( 1 ) \" \"                        \" \"                   \n",
       "5  ( 1 ) \" \"                        \" \"                   \n",
       "6  ( 1 ) \" \"                        \" \"                   \n",
       "7  ( 1 ) \" \"                        \" \"                   \n",
       "8  ( 1 ) \" \"                        \" \"                   \n",
       "9  ( 1 ) \" \"                        \" \"                   \n",
       "         native_country France native_country Germany native_country Greece\n",
       "1  ( 1 ) \" \"                   \" \"                    \" \"                  \n",
       "2  ( 1 ) \" \"                   \" \"                    \" \"                  \n",
       "3  ( 1 ) \" \"                   \" \"                    \" \"                  \n",
       "4  ( 1 ) \" \"                   \" \"                    \" \"                  \n",
       "5  ( 1 ) \" \"                   \" \"                    \" \"                  \n",
       "6  ( 1 ) \" \"                   \" \"                    \" \"                  \n",
       "7  ( 1 ) \" \"                   \" \"                    \" \"                  \n",
       "8  ( 1 ) \" \"                   \" \"                    \" \"                  \n",
       "9  ( 1 ) \" \"                   \" \"                    \" \"                  \n",
       "         native_country Guatemala native_country Haiti\n",
       "1  ( 1 ) \" \"                      \" \"                 \n",
       "2  ( 1 ) \" \"                      \" \"                 \n",
       "3  ( 1 ) \" \"                      \" \"                 \n",
       "4  ( 1 ) \" \"                      \" \"                 \n",
       "5  ( 1 ) \" \"                      \" \"                 \n",
       "6  ( 1 ) \" \"                      \" \"                 \n",
       "7  ( 1 ) \" \"                      \" \"                 \n",
       "8  ( 1 ) \" \"                      \" \"                 \n",
       "9  ( 1 ) \" \"                      \" \"                 \n",
       "         native_country Holand-Netherlands native_country Honduras\n",
       "1  ( 1 ) \" \"                               \" \"                    \n",
       "2  ( 1 ) \" \"                               \" \"                    \n",
       "3  ( 1 ) \" \"                               \" \"                    \n",
       "4  ( 1 ) \" \"                               \" \"                    \n",
       "5  ( 1 ) \" \"                               \" \"                    \n",
       "6  ( 1 ) \" \"                               \" \"                    \n",
       "7  ( 1 ) \" \"                               \" \"                    \n",
       "8  ( 1 ) \" \"                               \" \"                    \n",
       "9  ( 1 ) \" \"                               \" \"                    \n",
       "         native_country Hong native_country Hungary native_country India\n",
       "1  ( 1 ) \" \"                 \" \"                    \" \"                 \n",
       "2  ( 1 ) \" \"                 \" \"                    \" \"                 \n",
       "3  ( 1 ) \" \"                 \" \"                    \" \"                 \n",
       "4  ( 1 ) \" \"                 \" \"                    \" \"                 \n",
       "5  ( 1 ) \" \"                 \" \"                    \" \"                 \n",
       "6  ( 1 ) \" \"                 \" \"                    \" \"                 \n",
       "7  ( 1 ) \" \"                 \" \"                    \" \"                 \n",
       "8  ( 1 ) \" \"                 \" \"                    \" \"                 \n",
       "9  ( 1 ) \" \"                 \" \"                    \" \"                 \n",
       "         native_country Iran native_country Ireland native_country Italy\n",
       "1  ( 1 ) \" \"                 \" \"                    \" \"                 \n",
       "2  ( 1 ) \" \"                 \" \"                    \" \"                 \n",
       "3  ( 1 ) \" \"                 \" \"                    \" \"                 \n",
       "4  ( 1 ) \" \"                 \" \"                    \" \"                 \n",
       "5  ( 1 ) \" \"                 \" \"                    \" \"                 \n",
       "6  ( 1 ) \" \"                 \" \"                    \" \"                 \n",
       "7  ( 1 ) \" \"                 \" \"                    \" \"                 \n",
       "8  ( 1 ) \" \"                 \" \"                    \" \"                 \n",
       "9  ( 1 ) \" \"                 \" \"                    \" \"                 \n",
       "         native_country Jamaica native_country Japan native_country Laos\n",
       "1  ( 1 ) \" \"                    \" \"                  \" \"                \n",
       "2  ( 1 ) \" \"                    \" \"                  \" \"                \n",
       "3  ( 1 ) \" \"                    \" \"                  \" \"                \n",
       "4  ( 1 ) \" \"                    \" \"                  \" \"                \n",
       "5  ( 1 ) \" \"                    \" \"                  \" \"                \n",
       "6  ( 1 ) \" \"                    \" \"                  \" \"                \n",
       "7  ( 1 ) \" \"                    \" \"                  \" \"                \n",
       "8  ( 1 ) \" \"                    \" \"                  \" \"                \n",
       "9  ( 1 ) \" \"                    \" \"                  \" \"                \n",
       "         native_country Mexico native_country Nicaragua\n",
       "1  ( 1 ) \" \"                   \" \"                     \n",
       "2  ( 1 ) \" \"                   \" \"                     \n",
       "3  ( 1 ) \" \"                   \" \"                     \n",
       "4  ( 1 ) \" \"                   \" \"                     \n",
       "5  ( 1 ) \" \"                   \" \"                     \n",
       "6  ( 1 ) \" \"                   \" \"                     \n",
       "7  ( 1 ) \" \"                   \" \"                     \n",
       "8  ( 1 ) \" \"                   \" \"                     \n",
       "9  ( 1 ) \" \"                   \" \"                     \n",
       "         native_country Outlying-US(Guam-USVI-etc) native_country Peru\n",
       "1  ( 1 ) \" \"                                       \" \"                \n",
       "2  ( 1 ) \" \"                                       \" \"                \n",
       "3  ( 1 ) \" \"                                       \" \"                \n",
       "4  ( 1 ) \" \"                                       \" \"                \n",
       "5  ( 1 ) \" \"                                       \" \"                \n",
       "6  ( 1 ) \" \"                                       \" \"                \n",
       "7  ( 1 ) \" \"                                       \" \"                \n",
       "8  ( 1 ) \" \"                                       \" \"                \n",
       "9  ( 1 ) \" \"                                       \" \"                \n",
       "         native_country Philippines native_country Poland\n",
       "1  ( 1 ) \" \"                        \" \"                  \n",
       "2  ( 1 ) \" \"                        \" \"                  \n",
       "3  ( 1 ) \" \"                        \" \"                  \n",
       "4  ( 1 ) \" \"                        \" \"                  \n",
       "5  ( 1 ) \" \"                        \" \"                  \n",
       "6  ( 1 ) \" \"                        \" \"                  \n",
       "7  ( 1 ) \" \"                        \" \"                  \n",
       "8  ( 1 ) \" \"                        \" \"                  \n",
       "9  ( 1 ) \" \"                        \" \"                  \n",
       "         native_country Portugal native_country Puerto-Rico\n",
       "1  ( 1 ) \" \"                     \" \"                       \n",
       "2  ( 1 ) \" \"                     \" \"                       \n",
       "3  ( 1 ) \" \"                     \" \"                       \n",
       "4  ( 1 ) \" \"                     \" \"                       \n",
       "5  ( 1 ) \" \"                     \" \"                       \n",
       "6  ( 1 ) \" \"                     \" \"                       \n",
       "7  ( 1 ) \" \"                     \" \"                       \n",
       "8  ( 1 ) \" \"                     \" \"                       \n",
       "9  ( 1 ) \" \"                     \" \"                       \n",
       "         native_country Scotland native_country South native_country Taiwan\n",
       "1  ( 1 ) \" \"                     \" \"                  \" \"                  \n",
       "2  ( 1 ) \" \"                     \" \"                  \" \"                  \n",
       "3  ( 1 ) \" \"                     \" \"                  \" \"                  \n",
       "4  ( 1 ) \" \"                     \" \"                  \" \"                  \n",
       "5  ( 1 ) \" \"                     \" \"                  \" \"                  \n",
       "6  ( 1 ) \" \"                     \" \"                  \" \"                  \n",
       "7  ( 1 ) \" \"                     \" \"                  \" \"                  \n",
       "8  ( 1 ) \" \"                     \" \"                  \" \"                  \n",
       "9  ( 1 ) \" \"                     \" \"                  \" \"                  \n",
       "         native_country Thailand native_country Trinadad&Tobago\n",
       "1  ( 1 ) \" \"                     \" \"                           \n",
       "2  ( 1 ) \" \"                     \" \"                           \n",
       "3  ( 1 ) \" \"                     \" \"                           \n",
       "4  ( 1 ) \" \"                     \" \"                           \n",
       "5  ( 1 ) \" \"                     \" \"                           \n",
       "6  ( 1 ) \" \"                     \" \"                           \n",
       "7  ( 1 ) \" \"                     \" \"                           \n",
       "8  ( 1 ) \" \"                     \" \"                           \n",
       "9  ( 1 ) \" \"                     \" \"                           \n",
       "         native_country United-States native_country Vietnam\n",
       "1  ( 1 ) \" \"                          \" \"                   \n",
       "2  ( 1 ) \" \"                          \" \"                   \n",
       "3  ( 1 ) \" \"                          \" \"                   \n",
       "4  ( 1 ) \" \"                          \" \"                   \n",
       "5  ( 1 ) \" \"                          \" \"                   \n",
       "6  ( 1 ) \" \"                          \" \"                   \n",
       "7  ( 1 ) \" \"                          \" \"                   \n",
       "8  ( 1 ) \" \"                          \" \"                   \n",
       "9  ( 1 ) \" \"                          \" \"                   \n",
       "         native_country Yugoslavia\n",
       "1  ( 1 ) \" \"                      \n",
       "2  ( 1 ) \" \"                      \n",
       "3  ( 1 ) \" \"                      \n",
       "4  ( 1 ) \" \"                      \n",
       "5  ( 1 ) \" \"                      \n",
       "6  ( 1 ) \" \"                      \n",
       "7  ( 1 ) \" \"                      \n",
       "8  ( 1 ) \" \"                      \n",
       "9  ( 1 ) \" \"                      "
      ]
     },
     "metadata": {},
     "output_type": "display_data"
    }
   ],
   "source": [
    "library(leaps)\n",
    "model<-regsubsets(income ~ ., data=train_set ,method='backward')\n",
    "summary(model)\n",
    "reg_summary=summary(model)"
   ]
  },
  {
   "cell_type": "code",
   "execution_count": 26,
   "id": "1c8c0764-c535-4aad-9133-cf6613e93cb3",
   "metadata": {},
   "outputs": [
    {
     "data": {
      "text/html": [
       "<style>\n",
       ".list-inline {list-style: none; margin:0; padding: 0}\n",
       ".list-inline>li {display: inline-block}\n",
       ".list-inline>li:not(:last-child)::after {content: \"\\00b7\"; padding: 0 .5ex}\n",
       "</style>\n",
       "<ol class=list-inline><li>0.052312390223575</li><li>0.115525867548929</li><li>0.177870530782463</li><li>0.213768457560237</li><li>0.237581153944164</li><li>0.26174137458175</li><li>0.281223812653007</li><li>0.294793652034437</li><li>0.30798157735272</li></ol>\n"
      ],
      "text/latex": [
       "\\begin{enumerate*}\n",
       "\\item 0.052312390223575\n",
       "\\item 0.115525867548929\n",
       "\\item 0.177870530782463\n",
       "\\item 0.213768457560237\n",
       "\\item 0.237581153944164\n",
       "\\item 0.26174137458175\n",
       "\\item 0.281223812653007\n",
       "\\item 0.294793652034437\n",
       "\\item 0.30798157735272\n",
       "\\end{enumerate*}\n"
      ],
      "text/markdown": [
       "1. 0.052312390223575\n",
       "2. 0.115525867548929\n",
       "3. 0.177870530782463\n",
       "4. 0.213768457560237\n",
       "5. 0.237581153944164\n",
       "6. 0.26174137458175\n",
       "7. 0.281223812653007\n",
       "8. 0.294793652034437\n",
       "9. 0.30798157735272\n",
       "\n",
       "\n"
      ],
      "text/plain": [
       "[1] 0.05231239 0.11552587 0.17787053 0.21376846 0.23758115 0.26174137 0.28122381\n",
       "[8] 0.29479365 0.30798158"
      ]
     },
     "metadata": {},
     "output_type": "display_data"
    },
    {
     "data": {
      "text/html": [
       "<style>\n",
       ".list-inline {list-style: none; margin:0; padding: 0}\n",
       ".list-inline>li {display: inline-block}\n",
       ".list-inline>li:not(:last-child)::after {content: \"\\00b7\"; padding: 0 .5ex}\n",
       "</style>\n",
       "<ol class=list-inline><li>0.0522735791985206</li><li>0.11545342014487</li><li>0.177769515529856</li><li>0.213639646330675</li><li>0.237425010164764</li><li>0.261559932245597</li><li>0.281017707732827</li><li>0.294562541027771</li><li>0.307726429224747</li></ol>\n"
      ],
      "text/latex": [
       "\\begin{enumerate*}\n",
       "\\item 0.0522735791985206\n",
       "\\item 0.11545342014487\n",
       "\\item 0.177769515529856\n",
       "\\item 0.213639646330675\n",
       "\\item 0.237425010164764\n",
       "\\item 0.261559932245597\n",
       "\\item 0.281017707732827\n",
       "\\item 0.294562541027771\n",
       "\\item 0.307726429224747\n",
       "\\end{enumerate*}\n"
      ],
      "text/markdown": [
       "1. 0.0522735791985206\n",
       "2. 0.11545342014487\n",
       "3. 0.177769515529856\n",
       "4. 0.213639646330675\n",
       "5. 0.237425010164764\n",
       "6. 0.261559932245597\n",
       "7. 0.281017707732827\n",
       "8. 0.294562541027771\n",
       "9. 0.307726429224747\n",
       "\n",
       "\n"
      ],
      "text/plain": [
       "[1] 0.05227358 0.11545342 0.17776952 0.21363965 0.23742501 0.26155993 0.28101771\n",
       "[8] 0.29456254 0.30772643"
      ]
     },
     "metadata": {},
     "output_type": "display_data"
    },
    {
     "data": {
      "text/html": [
       "<style>\n",
       ".list-inline {list-style: none; margin:0; padding: 0}\n",
       ".list-inline>li {display: inline-block}\n",
       ".list-inline>li:not(:last-child)::after {content: \"\\00b7\"; padding: 0 .5ex}\n",
       "</style>\n",
       "<ol class=list-inline><li>11842.3363489327</li><li>9425.80148680761</li><li>7042.50727618085</li><li>5671.05985541637</li><li>4761.9909061588</li><li>3839.62574921779</li><li>3096.23160752218</li><li>2579.05229630488</li><li>2076.48493992916</li></ol>\n"
      ],
      "text/latex": [
       "\\begin{enumerate*}\n",
       "\\item 11842.3363489327\n",
       "\\item 9425.80148680761\n",
       "\\item 7042.50727618085\n",
       "\\item 5671.05985541637\n",
       "\\item 4761.9909061588\n",
       "\\item 3839.62574921779\n",
       "\\item 3096.23160752218\n",
       "\\item 2579.05229630488\n",
       "\\item 2076.48493992916\n",
       "\\end{enumerate*}\n"
      ],
      "text/markdown": [
       "1. 11842.3363489327\n",
       "2. 9425.80148680761\n",
       "3. 7042.50727618085\n",
       "4. 5671.05985541637\n",
       "5. 4761.9909061588\n",
       "6. 3839.62574921779\n",
       "7. 3096.23160752218\n",
       "8. 2579.05229630488\n",
       "9. 2076.48493992916\n",
       "\n",
       "\n"
      ],
      "text/plain": [
       "[1] 11842.336  9425.801  7042.507  5671.060  4761.991  3839.626  3096.232\n",
       "[8]  2579.052  2076.485"
      ]
     },
     "metadata": {},
     "output_type": "display_data"
    },
    {
     "data": {
      "text/html": [
       "<style>\n",
       ".list-inline {list-style: none; margin:0; padding: 0}\n",
       ".list-inline>li {display: inline-block}\n",
       ".list-inline>li:not(:last-child)::after {content: \"\\00b7\"; padding: 0 .5ex}\n",
       "</style>\n",
       "<ol class=list-inline><li>-1291.88899230756</li><li>-2967.53884030053</li><li>-4742.42486205876</li><li>-5822.59058912288</li><li>-6563.53090229957</li><li>-7339.79734300782</li><li>-7982.78701541348</li><li>-8438.11865185338</li><li>-8889.01319061797</li></ol>\n"
      ],
      "text/latex": [
       "\\begin{enumerate*}\n",
       "\\item -1291.88899230756\n",
       "\\item -2967.53884030053\n",
       "\\item -4742.42486205876\n",
       "\\item -5822.59058912288\n",
       "\\item -6563.53090229957\n",
       "\\item -7339.79734300782\n",
       "\\item -7982.78701541348\n",
       "\\item -8438.11865185338\n",
       "\\item -8889.01319061797\n",
       "\\end{enumerate*}\n"
      ],
      "text/markdown": [
       "1. -1291.88899230756\n",
       "2. -2967.53884030053\n",
       "3. -4742.42486205876\n",
       "4. -5822.59058912288\n",
       "5. -6563.53090229957\n",
       "6. -7339.79734300782\n",
       "7. -7982.78701541348\n",
       "8. -8438.11865185338\n",
       "9. -8889.01319061797\n",
       "\n",
       "\n"
      ],
      "text/plain": [
       "[1] -1291.889 -2967.539 -4742.425 -5822.591 -6563.531 -7339.797 -7982.787\n",
       "[8] -8438.119 -8889.013"
      ]
     },
     "metadata": {},
     "output_type": "display_data"
    },
    {
     "data": {
      "text/plain": [
       "NULL"
      ]
     },
     "metadata": {},
     "output_type": "display_data"
    }
   ],
   "source": [
    "reg_summary$rsq\n",
    "reg_summary$adjr2\n",
    "reg_summary$cp\n",
    "reg_summary$bic\n"
   ]
  },
  {
   "cell_type": "markdown",
   "id": "fb338597-6469-4e4e-aa17-ffabeb544f64",
   "metadata": {},
   "source": [
    "- In our backward selection procedure, we have meticulously examined each model ranging from 1 to 9 variables based on the Bayesian Information Criterion (BIC). The BIC values serve as a rigorous metric to evaluate the relative goodness of fit of the models while penalizing excessive complexity. The model with 9 variables emerged as the most optimal, achieving the lowest BIC value of -8889.01319061797. This suggests that including 9 variables strikes an appropriate balance by providing sufficient explanatory power without incurring unnecessary complexity. The backward selection process inherently considers the trade-off between model fit and complexity, thereby guiding us toward a model that not only fits the current data well but also holds promise for robust predictive performance on new, unseen data. Consequently, the 9-variable model is our preferred choice to proceed with, standing out as the model that adeptly navigates the balance between simplicity and the ability to capture the underlying structure of the data.\n",
    "- Taking all these statistics into account, the model with nine variables stands out. It reaches the lowest BIC, the highest adjusted R-squared, and the lowest Cp, which is particularly noteworthy as it implies that the model has the right number of predictors. The ninth model's Cp value is considerably lower than the other models, aligning well with the heuristic that a Cp close to the number of predictors plus one suggests a well-fitting model. Thus, this convergence of statistical indicators robustly points to the nine-variable model as the optimal choice. It promises not just to explain the training data well, but also to generalize effectively to new data, providing a strong foundation for reliable predictions.\n",
    "\n",
    "\n",
    "\n",
    "\n",
    "\n"
   ]
  },
  {
   "cell_type": "code",
   "execution_count": 27,
   "id": "74146197-5f5f-4f01-bf3e-e39c4234665e",
   "metadata": {},
   "outputs": [
    {
     "name": "stdout",
     "output_type": "stream",
     "text": [
      "Model with 1 variables:\n",
      "           (Intercept) relationship Unmarried \n",
      "             1.2594422             -0.2006186 \n",
      "\n",
      "Model with 2 variables:\n",
      "                (Intercept) relationship Other-relative \n",
      "                  1.2669063                  -0.2254698 \n",
      "     relationship Unmarried \n",
      "                 -0.2080827 \n",
      "\n",
      "Model with 3 variables:\n",
      "                (Intercept) relationship Other-relative \n",
      "                  1.2545819                  -0.2131454 \n",
      "     relationship Unmarried           relationship Wife \n",
      "                 -0.1957583                   0.2216086 \n",
      "\n",
      "Model with 4 variables:\n",
      "                (Intercept) relationship Other-relative \n",
      "                 1.25405642                 -0.20679009 \n",
      "     relationship Unmarried           relationship Wife \n",
      "                -0.18849726                  0.21900971 \n",
      "               capital_loss \n",
      "                 0.05945897 \n",
      "\n",
      "Model with 5 variables:\n",
      "                (Intercept)         education Bachelors \n",
      "                 1.22074849                  0.19357614 \n",
      "relationship Other-relative      relationship Unmarried \n",
      "                -0.19159351                 -0.17416786 \n",
      "          relationship Wife                capital_loss \n",
      "                 0.21456421                  0.05744443 \n",
      "\n",
      "Model with 6 variables:\n",
      "                (Intercept)         education Bachelors \n",
      "                 1.19919392                  0.21512670 \n",
      "          education Masters relationship Other-relative \n",
      "                 0.33523688                 -0.17657461 \n",
      "     relationship Unmarried           relationship Wife \n",
      "                -0.16933117                  0.20929920 \n",
      "               capital_loss \n",
      "                 0.05362946 \n",
      "\n",
      "Model with 7 variables:\n",
      "                (Intercept)         education Bachelors \n",
      "                 1.25512576                  0.19242465 \n",
      "          education Masters relationship Other-relative \n",
      "                 0.29725653                 -0.23036940 \n",
      "     relationship Own-child      relationship Unmarried \n",
      "                -0.26042169                 -0.22195914 \n",
      "          relationship Wife                capital_loss \n",
      "                 0.16062472                  0.04918312 \n",
      "\n",
      "Model with 8 variables:\n",
      "                (Intercept)         education Bachelors \n",
      "                 1.25904077                  0.19023400 \n",
      "          education Masters  occupation Farming-fishing \n",
      "                 0.29422842                 -0.09638626 \n",
      "relationship Other-relative      relationship Own-child \n",
      "                -0.23126918                 -0.26105454 \n",
      "     relationship Unmarried           relationship Wife \n",
      "                -0.22366790                  0.15850279 \n",
      "               capital_loss \n",
      "                 0.04897023 \n",
      "\n",
      "Model with 9 variables:\n",
      "                (Intercept)         education Bachelors \n",
      "                 1.24428431                  0.20295443 \n",
      "          education Masters       education Prof-school \n",
      "                 0.30797282                  0.46579213 \n",
      " occupation Farming-fishing relationship Other-relative \n",
      "                -0.08752553                 -0.22094731 \n",
      "     relationship Own-child      relationship Unmarried \n",
      "                -0.24992827                 -0.21448329 \n",
      "          relationship Wife                capital_loss \n",
      "                 0.16234264                  0.04635805 \n",
      "\n"
     ]
    }
   ],
   "source": [
    "# Assuming 'model' is your regsubsets object from the backward selection\n",
    "reg_summary <- summary(model)\n",
    "\n",
    "# Loop through each model size\n",
    "\n",
    "cat(\"Model with 9 variables:\\n\")\n",
    "\n",
    "# Extract coefficients for model with 'i' variables\n",
    "coeffs <- coef(model, id = i)\n",
    "\n",
    "print(coeffs)\n",
    "cat(\"\\n\")\n",
    "\n"
   ]
  },
  {
   "cell_type": "markdown",
   "id": "4649d935-ba9a-4f4b-a0b5-e15801ba73ca",
   "metadata": {},
   "source": [
    "Here we can see the detailed coefficients for the model we chose."
   ]
  },
  {
   "cell_type": "markdown",
   "id": "c3a0de74-52ab-454b-b321-a6ce0f5c9c59",
   "metadata": {},
   "source": [
    "### KNN"
   ]
  },
  {
   "cell_type": "code",
   "execution_count": 28,
   "id": "e8e1840f-90c8-48d7-bc98-6cfca8170025",
   "metadata": {},
   "outputs": [
    {
     "name": "stderr",
     "output_type": "stream",
     "text": [
      "Warning message in preProcess.default(thresh = 0.95, k = 5, freqCut = 19, uniqueCut = 10, :\n",
      "“These variables have zero variances: native_country Holand-Netherlands”\n",
      "Warning message in preProcess.default(thresh = 0.95, k = 5, freqCut = 19, uniqueCut = 10, :\n",
      "“These variables have zero variances: native_country Holand-Netherlands”\n",
      "Warning message in preProcess.default(thresh = 0.95, k = 5, freqCut = 19, uniqueCut = 10, :\n",
      "“These variables have zero variances: native_country Holand-Netherlands”\n"
     ]
    }
   ],
   "source": [
    "control <- trainControl(method = \"cv\", number = 10)\n",
    "knn_model <- train(income~., data = train_set, method = \"knn\", trControl = control, preProcess = c(\"center\", \"scale\"))\n"
   ]
  },
  {
   "cell_type": "code",
   "execution_count": 29,
   "id": "48accebe-0784-41c9-af00-4300de3d72ab",
   "metadata": {},
   "outputs": [
    {
     "data": {
      "text/plain": [
       "            Length Class      Mode     \n",
       "learn        2     -none-     list     \n",
       "k            1     -none-     numeric  \n",
       "theDots      0     -none-     list     \n",
       "xNames      97     -none-     character\n",
       "problemType  1     -none-     character\n",
       "tuneValue    1     data.frame list     \n",
       "obsLevels    2     -none-     character\n",
       "param        0     -none-     list     "
      ]
     },
     "metadata": {},
     "output_type": "display_data"
    }
   ],
   "source": [
    "summary(knn_model)"
   ]
  },
  {
   "cell_type": "code",
   "execution_count": 30,
   "id": "5cdc33d3-fc4d-4aff-b1bb-123c7969daf0",
   "metadata": {},
   "outputs": [],
   "source": [
    "control <- trainControl(method = \"cv\", number = 10)\n",
    "tuneGrid <- expand.grid(k = 1:10)\n",
    "\n",
    "knn_model <- train(income ~ ., data = train_set, method = \"knn\", trControl = control, tuneGrid = tuneGrid)"
   ]
  },
  {
   "cell_type": "code",
   "execution_count": 31,
   "id": "58f545f2-25b9-48ba-8f05-35791dc8e96a",
   "metadata": {},
   "outputs": [
    {
     "data": {
      "text/html": [
       "<table class=\"dataframe\">\n",
       "<caption>A data.frame: 1 × 1</caption>\n",
       "<thead>\n",
       "\t<tr><th></th><th scope=col>k</th></tr>\n",
       "\t<tr><th></th><th scope=col>&lt;int&gt;</th></tr>\n",
       "</thead>\n",
       "<tbody>\n",
       "\t<tr><th scope=row>9</th><td>9</td></tr>\n",
       "</tbody>\n",
       "</table>\n"
      ],
      "text/latex": [
       "A data.frame: 1 × 1\n",
       "\\begin{tabular}{r|l}\n",
       "  & k\\\\\n",
       "  & <int>\\\\\n",
       "\\hline\n",
       "\t9 & 9\\\\\n",
       "\\end{tabular}\n"
      ],
      "text/markdown": [
       "\n",
       "A data.frame: 1 × 1\n",
       "\n",
       "| <!--/--> | k &lt;int&gt; |\n",
       "|---|---|\n",
       "| 9 | 9 |\n",
       "\n"
      ],
      "text/plain": [
       "  k\n",
       "9 9"
      ]
     },
     "metadata": {},
     "output_type": "display_data"
    }
   ],
   "source": [
    "# Find the best k for the knn model\n",
    "knn_model$bestTune"
   ]
  },
  {
   "cell_type": "markdown",
   "id": "15a2cc42-c47c-4a7c-be15-f455e624d72d",
   "metadata": {},
   "source": [
    "### Decision tree"
   ]
  },
  {
   "cell_type": "code",
   "execution_count": 36,
   "id": "69b9af4e-ef60-4128-b868-5b9cc37af24b",
   "metadata": {},
   "outputs": [],
   "source": [
    "tree_model <- rpart(income ~ ., data = train_set, method = \"class\")\n",
    "\n",
    "#rpart.plot(tree_model, box.palette = \"RdBu\", shadow.col = \"gray\", nn = TRUE)\n"
   ]
  },
  {
   "cell_type": "code",
   "execution_count": 37,
   "id": "ce1adfea-6475-4b65-ac0f-d8268480b4ad",
   "metadata": {},
   "outputs": [],
   "source": [
    "control <- trainControl(method = \"cv\", number = 10)\n",
    "tuneGrid <- expand.grid(cp = seq(0.01, 0.1, by = 0.01))\n",
    "\n",
    "tree_model <- train(income ~ ., data = train_set, method = \"rpart\", trControl = control, tuneGrid = tuneGrid)"
   ]
  },
  {
   "cell_type": "code",
   "execution_count": 38,
   "id": "229c5fcb-d1f1-47ec-905c-89aadea7613f",
   "metadata": {},
   "outputs": [
    {
     "data": {
      "text/html": [
       "<table class=\"dataframe\">\n",
       "<caption>A data.frame: 1 × 1</caption>\n",
       "<thead>\n",
       "\t<tr><th></th><th scope=col>cp</th></tr>\n",
       "\t<tr><th></th><th scope=col>&lt;dbl&gt;</th></tr>\n",
       "</thead>\n",
       "<tbody>\n",
       "\t<tr><th scope=row>1</th><td>0.01</td></tr>\n",
       "</tbody>\n",
       "</table>\n"
      ],
      "text/latex": [
       "A data.frame: 1 × 1\n",
       "\\begin{tabular}{r|l}\n",
       "  & cp\\\\\n",
       "  & <dbl>\\\\\n",
       "\\hline\n",
       "\t1 & 0.01\\\\\n",
       "\\end{tabular}\n"
      ],
      "text/markdown": [
       "\n",
       "A data.frame: 1 × 1\n",
       "\n",
       "| <!--/--> | cp &lt;dbl&gt; |\n",
       "|---|---|\n",
       "| 1 | 0.01 |\n",
       "\n"
      ],
      "text/plain": [
       "  cp  \n",
       "1 0.01"
      ]
     },
     "metadata": {},
     "output_type": "display_data"
    }
   ],
   "source": [
    "tree_model$bestTune"
   ]
  },
  {
   "cell_type": "code",
   "execution_count": 40,
   "id": "c96029fa-1625-4d41-810c-ac4ba95a111b",
   "metadata": {},
   "outputs": [],
   "source": [
    "best_cp <- tree_model$bestTune$cp"
   ]
  },
  {
   "cell_type": "code",
   "execution_count": 42,
   "id": "06bd5375-080a-43dd-8d3c-4ff6b3b4a91b",
   "metadata": {},
   "outputs": [],
   "source": [
    "#fit the best decision tree model\n",
    "opt_tree <- rpart(income ~ ., data = train_set, control = rpart.control(cp = best_cp))"
   ]
  },
  {
   "cell_type": "markdown",
   "id": "6c87042d-dd95-44de-94da-4ea6a126e318",
   "metadata": {},
   "source": [
    "### Evaluation,model_selection"
   ]
  },
  {
   "cell_type": "code",
   "execution_count": null,
   "id": "8fe5bcfc-1173-4999-928c-c8dedebdad85",
   "metadata": {},
   "outputs": [],
   "source": [
    "#Make Predictions\n",
    "# Logistic Regression Predictions (probabilities)\n",
    "log_preds <- predict(log_model, newdata = test_set, type = \"response\")\n",
    "log_preds_class <- ifelse(log_preds > 0.5, 1, 0)\n",
    "\n",
    "# KNN Predictions\n",
    "knn_preds_class <- predict(knn_model, newdata = test_set)\n",
    "\n",
    "# Decision Tree Predictions\n",
    "tree_preds_class <- predict(opt_tree, newdata = test_set, type = \"class\")\n"
   ]
  },
  {
   "cell_type": "code",
   "execution_count": null,
   "id": "d554c02f-4fac-452b-996c-cd1aa3aa550f",
   "metadata": {},
   "outputs": [],
   "source": [
    "#Install and Load Necessary Packages\n",
    "if (!requireNamespace(\"pROC\", quietly = TRUE)) install.packages(\"pROC\")\n",
    "if (!requireNamespace(\"yardstick\", quietly = TRUE)) install.packages(\"yardstick\")\n",
    "library(pROC)\n",
    "library(yardstick)\n"
   ]
  },
  {
   "cell_type": "code",
   "execution_count": null,
   "id": "be4a80d8-c578-4937-9f6d-0247c8d53816",
   "metadata": {},
   "outputs": [],
   "source": [
    "#Define a Function to Calculate Metrics\n",
    "calculate_metrics <- function(actual, predicted, predicted_prob = NULL) {\n",
    "  # Convert to factor if not already\n",
    "  actual <- factor(actual, levels = c(0, 1))\n",
    "  predicted <- factor(predicted, levels = c(0, 1))\n",
    "  \n",
    "  # Calculate Metrics\n",
    "  cm <- confusionMatrix(predicted, actual)\n",
    "  accuracy <- cm$overall['Accuracy']\n",
    "  precision <- cm$byClass['Pos Pred Value']\n",
    "  recall <- cm$byClass['Sensitivity']\n",
    "  f1_score <- 2 * (precision * recall) / (precision + recall)\n",
    "  \n",
    "  # Calculate AUC if probabilities are provided\n",
    "  if (!is.null(predicted_prob)) {\n",
    "    roc_res <- roc(actual, predicted_prob)\n",
    "    auc <- auc(roc_res)\n",
    "  } else {\n",
    "    auc <- NA\n",
    "  }\n",
    "  \n",
    "  return(list(accuracy = accuracy, precision = precision, recall = recall, f1_score = f1_score, AUC = auc))\n",
    "}\n",
    "\n"
   ]
  },
  {
   "cell_type": "code",
   "execution_count": null,
   "id": "271f6188-ec60-4abb-a1dc-b8f1e4d7b956",
   "metadata": {},
   "outputs": [],
   "source": [
    "\n",
    "# Calculate Metrics for Each Model\n",
    "log_metrics <- calculate_metrics(test_set$income, log_preds_class, log_preds)\n",
    "knn_metrics <- calculate_metrics(test_set$income, knn_preds_class)\n",
    "tree_metrics <- calculate_metrics(test_set$income, tree_preds_class)\n",
    "\n",
    "# Print Metrics\n",
    "print(\"Logistic Regression Metrics:\")\n",
    "print(log_metrics)\n",
    "\n",
    "print(\"KNN Metrics:\")\n",
    "print(knn_metrics)\n",
    "\n",
    "print(\"Decision Tree Metrics:\")\n",
    "print(tree_metrics)\n"
   ]
  },
  {
   "cell_type": "markdown",
   "id": "0e49cc8d-a72f-4e64-b402-0f7c5cc2a5da",
   "metadata": {},
   "source": [
    "# Conclusion"
   ]
  },
  {
   "cell_type": "code",
   "execution_count": null,
   "id": "07f6d937-7f9f-4947-ac92-06431c6685f4",
   "metadata": {},
   "outputs": [],
   "source": []
  },
  {
   "cell_type": "code",
   "execution_count": null,
   "id": "9512ab34-9262-407f-8200-09f219f9dcc9",
   "metadata": {},
   "outputs": [],
   "source": []
  }
 ],
 "metadata": {
  "kernelspec": {
   "display_name": "R",
   "language": "R",
   "name": "ir"
  },
  "language_info": {
   "codemirror_mode": "r",
   "file_extension": ".r",
   "mimetype": "text/x-r-source",
   "name": "R",
   "pygments_lexer": "r",
   "version": "4.3.2"
  }
 },
 "nbformat": 4,
 "nbformat_minor": 5
}
